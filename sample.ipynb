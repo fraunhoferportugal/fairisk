{
 "cells": [
  {
   "cell_type": "code",
   "execution_count": 1,
   "metadata": {},
   "outputs": [],
   "source": [
    "%load_ext autoreload\n",
    "import json\n",
    "import datetime\n",
    "import pandas as pd\n",
    "import re\n",
    "import cProfile, pstats"
   ]
  },
  {
   "source": [
    "### Load data"
   ],
   "cell_type": "markdown",
   "metadata": {}
  },
  {
   "cell_type": "code",
   "execution_count": 2,
   "metadata": {
    "tags": []
   },
   "outputs": [
    {
     "output_type": "stream",
     "name": "stdout",
     "text": [
      "CPU times: user 16.2 s, sys: 331 ms, total: 16.5 s\nWall time: 17 s\n"
     ]
    }
   ],
   "source": [
    "%autoreload 2\n",
    "from fairiskdata import FAIRiskDataset\n",
    "\n",
    "%time dataset = FAIRiskDataset.load()\n"
   ]
  },
  {
   "source": [
    "### Low-level access to dataset (dictionary)"
   ],
   "cell_type": "markdown",
   "metadata": {}
  },
  {
   "cell_type": "code",
   "execution_count": 3,
   "metadata": {},
   "outputs": [
    {
     "output_type": "stream",
     "name": "stdout",
     "text": [
      "dict_keys(['Afghanistan', 'Albania', 'Algeria', 'Andorra', 'Angola', 'Anguilla', 'Antigua and Barbuda', 'Argentina', 'Armenia', 'Australia', 'Austria', 'Azerbaijan', 'Bahamas', 'Bahrain', 'Bangladesh', 'Barbados', 'Belarus', 'Belgium', 'Belize', 'Benin', 'Bermuda', 'Bhutan', 'Bolivia', 'Bosnia and Herzegovina', 'Botswana', 'Brazil', 'Brunei Darussalam', 'Bulgaria', 'Burkina Faso', 'Burundi', 'Cambodia', 'Cameroon', 'Canada', 'Cabo Verde', 'Cayman Islands', 'Central African Republic', 'Chad', 'Chile', 'China', 'Colombia', 'Comoros', 'Congo Republic', 'Costa Rica', \"Cote d'Ivoire\", 'Croatia', 'Cuba', 'Cyprus', 'Czech Republic', 'DR Congo', 'Denmark', 'Djibouti', 'Dominica', 'Dominican Republic', 'Ecuador', 'Egypt', 'El Salvador', 'Equatorial Guinea', 'Eritrea', 'Estonia', 'Eswatini', 'Ethiopia', 'Faeroe Islands', 'Falkland Islands', 'Fiji', 'Finland', 'France', 'Gabon', 'Gambia', 'Georgia', 'Germany', 'Ghana', 'Gibraltar', 'Greece', 'Greenland', 'Grenada', 'Guatemala', 'Guernsey', 'Guinea', 'Guinea-Bissau', 'Guyana', 'Haiti', 'Honduras', 'Hong Kong', 'Hungary', 'Iceland', 'India', 'Indonesia', 'Iran', 'Iraq', 'Ireland', 'Isle of Man', 'Israel', 'Italy', 'Jamaica', 'Japan', 'Jersey', 'Jordan', 'Kazakhstan', 'Kenya', 'Kosovo', 'Kuwait', 'Kyrgyz Republic', 'Laos', 'Latvia', 'Lebanon', 'Lesotho', 'Liberia', 'Libya', 'Liechtenstein', 'Lithuania', 'Luxembourg', 'Macau', 'Madagascar', 'Malawi', 'Malaysia', 'Maldives', 'Mali', 'Malta', 'Marshall Islands', 'Mauritania', 'Mauritius', 'Mexico', 'Micronesia, Fed. Sts.', 'Moldova', 'Monaco', 'Mongolia', 'Montenegro', 'Morocco', 'Mozambique', 'Myanmar', 'Namibia', 'Nepal', 'Netherlands', 'New Zealand', 'Nicaragua', 'Niger', 'Nigeria', 'Macedonia', 'Norway', 'Oman', 'Pakistan', 'Palestine', 'Panama', 'Papua New Guinea', 'Paraguay', 'Peru', 'Philippines', 'Poland', 'Portugal', 'Qatar', 'Romania', 'Russia', 'Rwanda', 'St. Helena', 'St. Kitts and Nevis', 'St. Lucia', 'St. Vincent and the Grenadines', 'Samoa', 'San Marino', 'Sao Tome and Principe', 'Saudi Arabia', 'Senegal', 'Serbia', 'Seychelles', 'Sierra Leone', 'Singapore', 'Slovakia', 'Slovenia', 'Solomon Islands', 'Somalia', 'South Africa', 'South Korea', 'South Sudan', 'Spain', 'Sri Lanka', 'Sudan', 'Suriname', 'Sweden', 'Switzerland', 'Syria', 'Taiwan', 'Tajikistan', 'Tanzania', 'Thailand', 'Timor-Leste', 'Togo', 'Trinidad and Tobago', 'Tunisia', 'Turkey', 'Turks and Caicos Islands', 'Uganda', 'Ukraine', 'United Arab Emirates', 'United Kingdom', 'United States', 'Uruguay', 'Uzbekistan', 'Vanuatu', 'Vatican', 'Venezuela', 'Vietnam', 'Yemen', 'Zambia', 'Zimbabwe', 'Kiribati', 'Nauru', 'Palau', 'Tonga', 'Turkmenistan', 'Tuvalu', 'American Samoa', 'Guadeloupe', 'French Guiana', 'Martinique', 'New Caledonia', 'Reunion', 'United States Virgin Islands'])\ndict_keys(['COVID', 'DEMOGRAPHIC', 'INDICATORS', 'SCORES', 'MOBILITY'])\ndict_keys(['COVID', 'DEMOGRAPHIC', 'INDICATORS', 'SCORES', 'MORTALITY', 'MOBILITY'])\n"
     ]
    }
   ],
   "source": [
    "print(dataset.get().keys())\n",
    "print(dataset.get()['Qatar'].keys())\n",
    "print(dataset.get()['Portugal'].keys())"
   ]
  },
  {
   "cell_type": "code",
   "execution_count": 4,
   "metadata": {},
   "outputs": [
    {
     "output_type": "stream",
     "name": "stdout",
     "text": [
      "85 years or over_Females >> dict_keys(['ATTR_NAME', 'SOURCE', 'UNIT', 'FREQUENCY', 'SERIES_TYPE', 'VALUE'])\n\nYEARLY\n85 years or over_Males >> dict_keys(['ATTR_NAME', 'SOURCE', 'UNIT', 'FREQUENCY', 'SERIES_TYPE', 'VALUE'])\n\nYEARLY\n85 years or over_Total >> dict_keys(['ATTR_NAME', 'SOURCE', 'UNIT', 'FREQUENCY', 'SERIES_TYPE', 'VALUE'])\n\nYEARLY\nFrom 10 to 14 years_Females >> dict_keys(['ATTR_NAME', 'SOURCE', 'UNIT', 'FREQUENCY', 'SERIES_TYPE', 'VALUE'])\n\nYEARLY\nFrom 10 to 14 years_Males >> dict_keys(['ATTR_NAME', 'SOURCE', 'UNIT', 'FREQUENCY', 'SERIES_TYPE', 'VALUE'])\n\nYEARLY\nFrom 10 to 14 years_Total >> dict_keys(['ATTR_NAME', 'SOURCE', 'UNIT', 'FREQUENCY', 'SERIES_TYPE', 'VALUE'])\n\nYEARLY\nFrom 15 to 19 years_Females >> dict_keys(['ATTR_NAME', 'SOURCE', 'UNIT', 'FREQUENCY', 'SERIES_TYPE', 'VALUE'])\n\nYEARLY\nFrom 15 to 19 years_Males >> dict_keys(['ATTR_NAME', 'SOURCE', 'UNIT', 'FREQUENCY', 'SERIES_TYPE', 'VALUE'])\n\nYEARLY\nFrom 15 to 19 years_Total >> dict_keys(['ATTR_NAME', 'SOURCE', 'UNIT', 'FREQUENCY', 'SERIES_TYPE', 'VALUE'])\n\nYEARLY\nFrom 20 to 24 years_Females >> dict_keys(['ATTR_NAME', 'SOURCE', 'UNIT', 'FREQUENCY', 'SERIES_TYPE', 'VALUE'])\n\nYEARLY\nFrom 20 to 24 years_Males >> dict_keys(['ATTR_NAME', 'SOURCE', 'UNIT', 'FREQUENCY', 'SERIES_TYPE', 'VALUE'])\n\nYEARLY\nFrom 20 to 24 years_Total >> dict_keys(['ATTR_NAME', 'SOURCE', 'UNIT', 'FREQUENCY', 'SERIES_TYPE', 'VALUE'])\n\nYEARLY\nFrom 25 to 29 years_Females >> dict_keys(['ATTR_NAME', 'SOURCE', 'UNIT', 'FREQUENCY', 'SERIES_TYPE', 'VALUE'])\n\nYEARLY\nFrom 25 to 29 years_Males >> dict_keys(['ATTR_NAME', 'SOURCE', 'UNIT', 'FREQUENCY', 'SERIES_TYPE', 'VALUE'])\n\nYEARLY\nFrom 25 to 29 years_Total >> dict_keys(['ATTR_NAME', 'SOURCE', 'UNIT', 'FREQUENCY', 'SERIES_TYPE', 'VALUE'])\n\nYEARLY\nFrom 30 to 34 years_Females >> dict_keys(['ATTR_NAME', 'SOURCE', 'UNIT', 'FREQUENCY', 'SERIES_TYPE', 'VALUE'])\n\nYEARLY\nFrom 30 to 34 years_Males >> dict_keys(['ATTR_NAME', 'SOURCE', 'UNIT', 'FREQUENCY', 'SERIES_TYPE', 'VALUE'])\n\nYEARLY\nFrom 30 to 34 years_Total >> dict_keys(['ATTR_NAME', 'SOURCE', 'UNIT', 'FREQUENCY', 'SERIES_TYPE', 'VALUE'])\n\nYEARLY\nFrom 35 to 39 years_Females >> dict_keys(['ATTR_NAME', 'SOURCE', 'UNIT', 'FREQUENCY', 'SERIES_TYPE', 'VALUE'])\n\nYEARLY\nFrom 35 to 39 years_Males >> dict_keys(['ATTR_NAME', 'SOURCE', 'UNIT', 'FREQUENCY', 'SERIES_TYPE', 'VALUE'])\n\nYEARLY\nFrom 35 to 39 years_Total >> dict_keys(['ATTR_NAME', 'SOURCE', 'UNIT', 'FREQUENCY', 'SERIES_TYPE', 'VALUE'])\n\nYEARLY\nFrom 40 to 44 years_Females >> dict_keys(['ATTR_NAME', 'SOURCE', 'UNIT', 'FREQUENCY', 'SERIES_TYPE', 'VALUE'])\n\nYEARLY\nFrom 40 to 44 years_Males >> dict_keys(['ATTR_NAME', 'SOURCE', 'UNIT', 'FREQUENCY', 'SERIES_TYPE', 'VALUE'])\n\nYEARLY\nFrom 40 to 44 years_Total >> dict_keys(['ATTR_NAME', 'SOURCE', 'UNIT', 'FREQUENCY', 'SERIES_TYPE', 'VALUE'])\n\nYEARLY\nFrom 45 to 49 years_Females >> dict_keys(['ATTR_NAME', 'SOURCE', 'UNIT', 'FREQUENCY', 'SERIES_TYPE', 'VALUE'])\n\nYEARLY\nFrom 45 to 49 years_Males >> dict_keys(['ATTR_NAME', 'SOURCE', 'UNIT', 'FREQUENCY', 'SERIES_TYPE', 'VALUE'])\n\nYEARLY\nFrom 45 to 49 years_Total >> dict_keys(['ATTR_NAME', 'SOURCE', 'UNIT', 'FREQUENCY', 'SERIES_TYPE', 'VALUE'])\n\nYEARLY\nFrom 5 to 9 years_Females >> dict_keys(['ATTR_NAME', 'SOURCE', 'UNIT', 'FREQUENCY', 'SERIES_TYPE', 'VALUE'])\n\nYEARLY\nFrom 5 to 9 years_Males >> dict_keys(['ATTR_NAME', 'SOURCE', 'UNIT', 'FREQUENCY', 'SERIES_TYPE', 'VALUE'])\n\nYEARLY\nFrom 5 to 9 years_Total >> dict_keys(['ATTR_NAME', 'SOURCE', 'UNIT', 'FREQUENCY', 'SERIES_TYPE', 'VALUE'])\n\nYEARLY\nFrom 50 to 54 years_Females >> dict_keys(['ATTR_NAME', 'SOURCE', 'UNIT', 'FREQUENCY', 'SERIES_TYPE', 'VALUE'])\n\nYEARLY\nFrom 50 to 54 years_Males >> dict_keys(['ATTR_NAME', 'SOURCE', 'UNIT', 'FREQUENCY', 'SERIES_TYPE', 'VALUE'])\n\nYEARLY\nFrom 50 to 54 years_Total >> dict_keys(['ATTR_NAME', 'SOURCE', 'UNIT', 'FREQUENCY', 'SERIES_TYPE', 'VALUE'])\n\nYEARLY\nFrom 55 to 59 years_Females >> dict_keys(['ATTR_NAME', 'SOURCE', 'UNIT', 'FREQUENCY', 'SERIES_TYPE', 'VALUE'])\n\nYEARLY\nFrom 55 to 59 years_Males >> dict_keys(['ATTR_NAME', 'SOURCE', 'UNIT', 'FREQUENCY', 'SERIES_TYPE', 'VALUE'])\n\nYEARLY\nFrom 55 to 59 years_Total >> dict_keys(['ATTR_NAME', 'SOURCE', 'UNIT', 'FREQUENCY', 'SERIES_TYPE', 'VALUE'])\n\nYEARLY\nFrom 60 to 64 years_Females >> dict_keys(['ATTR_NAME', 'SOURCE', 'UNIT', 'FREQUENCY', 'SERIES_TYPE', 'VALUE'])\n\nYEARLY\nFrom 60 to 64 years_Males >> dict_keys(['ATTR_NAME', 'SOURCE', 'UNIT', 'FREQUENCY', 'SERIES_TYPE', 'VALUE'])\n\nYEARLY\nFrom 60 to 64 years_Total >> dict_keys(['ATTR_NAME', 'SOURCE', 'UNIT', 'FREQUENCY', 'SERIES_TYPE', 'VALUE'])\n\nYEARLY\nFrom 65 to 69 years_Females >> dict_keys(['ATTR_NAME', 'SOURCE', 'UNIT', 'FREQUENCY', 'SERIES_TYPE', 'VALUE'])\n\nYEARLY\nFrom 65 to 69 years_Males >> dict_keys(['ATTR_NAME', 'SOURCE', 'UNIT', 'FREQUENCY', 'SERIES_TYPE', 'VALUE'])\n\nYEARLY\nFrom 65 to 69 years_Total >> dict_keys(['ATTR_NAME', 'SOURCE', 'UNIT', 'FREQUENCY', 'SERIES_TYPE', 'VALUE'])\n\nYEARLY\nFrom 70 to 74 years_Females >> dict_keys(['ATTR_NAME', 'SOURCE', 'UNIT', 'FREQUENCY', 'SERIES_TYPE', 'VALUE'])\n\nYEARLY\nFrom 70 to 74 years_Males >> dict_keys(['ATTR_NAME', 'SOURCE', 'UNIT', 'FREQUENCY', 'SERIES_TYPE', 'VALUE'])\n\nYEARLY\nFrom 70 to 74 years_Total >> dict_keys(['ATTR_NAME', 'SOURCE', 'UNIT', 'FREQUENCY', 'SERIES_TYPE', 'VALUE'])\n\nYEARLY\nFrom 75 to 79 years_Females >> dict_keys(['ATTR_NAME', 'SOURCE', 'UNIT', 'FREQUENCY', 'SERIES_TYPE', 'VALUE'])\n\nYEARLY\nFrom 75 to 79 years_Males >> dict_keys(['ATTR_NAME', 'SOURCE', 'UNIT', 'FREQUENCY', 'SERIES_TYPE', 'VALUE'])\n\nYEARLY\nFrom 75 to 79 years_Total >> dict_keys(['ATTR_NAME', 'SOURCE', 'UNIT', 'FREQUENCY', 'SERIES_TYPE', 'VALUE'])\n\nYEARLY\nFrom 80 to 84 years_Females >> dict_keys(['ATTR_NAME', 'SOURCE', 'UNIT', 'FREQUENCY', 'SERIES_TYPE', 'VALUE'])\n\nYEARLY\nFrom 80 to 84 years_Males >> dict_keys(['ATTR_NAME', 'SOURCE', 'UNIT', 'FREQUENCY', 'SERIES_TYPE', 'VALUE'])\n\nYEARLY\nFrom 80 to 84 years_Total >> dict_keys(['ATTR_NAME', 'SOURCE', 'UNIT', 'FREQUENCY', 'SERIES_TYPE', 'VALUE'])\n\nYEARLY\nLess than 5 years_Females >> dict_keys(['ATTR_NAME', 'SOURCE', 'UNIT', 'FREQUENCY', 'SERIES_TYPE', 'VALUE'])\n\nYEARLY\nLess than 5 years_Males >> dict_keys(['ATTR_NAME', 'SOURCE', 'UNIT', 'FREQUENCY', 'SERIES_TYPE', 'VALUE'])\n\nYEARLY\nLess than 5 years_Total >> dict_keys(['ATTR_NAME', 'SOURCE', 'UNIT', 'FREQUENCY', 'SERIES_TYPE', 'VALUE'])\n\nYEARLY\nTotal_Females >> dict_keys(['ATTR_NAME', 'SOURCE', 'UNIT', 'FREQUENCY', 'SERIES_TYPE', 'VALUE'])\n\nYEARLY\nTotal_Males >> dict_keys(['ATTR_NAME', 'SOURCE', 'UNIT', 'FREQUENCY', 'SERIES_TYPE', 'VALUE'])\n\nYEARLY\nTotal_Total >> dict_keys(['ATTR_NAME', 'SOURCE', 'UNIT', 'FREQUENCY', 'SERIES_TYPE', 'VALUE'])\n\nYEARLY\n"
     ]
    }
   ],
   "source": [
    "for key, value in dataset.get()['Portugal']['DEMOGRAPHIC'].items():\n",
    "    print(f\"{key} >> {value.keys()}\\n\")\n",
    "    print(f\"{value['FREQUENCY'] if 'FREQUENCY' in value else ''}\")"
   ]
  },
  {
   "cell_type": "code",
   "execution_count": 5,
   "metadata": {
    "tags": []
   },
   "outputs": [
    {
     "output_type": "stream",
     "name": "stdout",
     "text": [
      "dict_keys(['ATTR_NAME', 'SOURCE', 'UNIT', 'VALUE', 'FREQUENCY', 'SERIES_TYPE'])\nIndex(['2020-02-02', '2020-02-09', '2020-02-16', '2020-02-23', '2020-03-01',\n       '2020-03-02', '2020-03-03', '2020-03-04', '2020-03-05', '2020-03-06',\n       ...\n       '2021-02-14', '2021-02-15', '2021-02-16', '2021-02-17', '2021-02-18',\n       '2021-02-19', '2021-02-20', '2021-02-21', '2021-02-22', '2021-02-23'],\n      dtype='object', length=364)\n"
     ]
    }
   ],
   "source": [
    "print(dataset.get()['Portugal']['COVID']['total_cases'].keys())\n",
    "print(dataset.get()['Portugal']['COVID']['total_cases']['VALUE'].keys())"
   ]
  },
  {
   "source": [
    "### Filtering examples"
   ],
   "cell_type": "markdown",
   "metadata": {}
  },
  {
   "cell_type": "code",
   "execution_count": 6,
   "metadata": {
    "tags": [
     "outputPrepend"
    ]
   },
   "outputs": [
    {
     "output_type": "stream",
     "name": "stdout",
     "text": [
      "et - WARNING - Eritrea no longer has DEMOGRAPHIC, INDICATORS, SCORES data.\n",
      "2021-03-12 10:00:31,421 - fairisk_dataset - WARNING - Estonia no longer has DEMOGRAPHIC, INDICATORS, SCORES, MORTALITY, MOBILITY data.\n",
      "2021-03-12 10:00:31,421 - fairisk_dataset - WARNING - Eswatini no longer has DEMOGRAPHIC, INDICATORS, SCORES data.\n",
      "2021-03-12 10:00:31,422 - fairisk_dataset - WARNING - Ethiopia no longer has DEMOGRAPHIC, INDICATORS, SCORES, MOBILITY data.\n",
      "2021-03-12 10:00:31,422 - fairisk_dataset - WARNING - Faeroe Islands no longer has DEMOGRAPHIC, INDICATORS, SCORES, MOBILITY data.\n",
      "2021-03-12 10:00:31,423 - fairisk_dataset - WARNING - Falkland Islands no longer has DEMOGRAPHIC, INDICATORS, SCORES data.\n",
      "2021-03-12 10:00:31,423 - fairisk_dataset - WARNING - Fiji no longer has DEMOGRAPHIC, INDICATORS, SCORES, MOBILITY data.\n",
      "2021-03-12 10:00:31,424 - fairisk_dataset - WARNING - Finland no longer has DEMOGRAPHIC, INDICATORS, SCORES, MORTALITY, MOBILITY data.\n",
      "2021-03-12 10:00:31,424 - fairisk_dataset - WARNING - France no longer has DEMOGRAPHIC, INDICATORS, SCORES, MORTALITY, MOBILITY data.\n",
      "2021-03-12 10:00:31,425 - fairisk_dataset - WARNING - Gabon no longer has DEMOGRAPHIC, INDICATORS, SCORES, MOBILITY data.\n",
      "2021-03-12 10:00:31,425 - fairisk_dataset - WARNING - Gambia no longer has DEMOGRAPHIC, INDICATORS, SCORES, MOBILITY data.\n",
      "2021-03-12 10:00:31,426 - fairisk_dataset - WARNING - Georgia no longer has DEMOGRAPHIC, INDICATORS, SCORES, MOBILITY data.\n",
      "2021-03-12 10:00:31,426 - fairisk_dataset - WARNING - Germany no longer has DEMOGRAPHIC, INDICATORS, SCORES, MORTALITY, MOBILITY data.\n",
      "2021-03-12 10:00:31,427 - fairisk_dataset - WARNING - Ghana no longer has DEMOGRAPHIC, INDICATORS, SCORES, MOBILITY data.\n",
      "2021-03-12 10:00:31,427 - fairisk_dataset - WARNING - Gibraltar no longer has DEMOGRAPHIC, INDICATORS, SCORES data.\n",
      "2021-03-12 10:00:31,428 - fairisk_dataset - WARNING - Greece no longer has DEMOGRAPHIC, INDICATORS, SCORES, MORTALITY, MOBILITY data.\n",
      "2021-03-12 10:00:31,428 - fairisk_dataset - WARNING - Greenland no longer has DEMOGRAPHIC, INDICATORS, SCORES data.\n",
      "2021-03-12 10:00:31,429 - fairisk_dataset - WARNING - Grenada no longer has DEMOGRAPHIC, INDICATORS, SCORES data.\n",
      "2021-03-12 10:00:31,429 - fairisk_dataset - WARNING - Guatemala no longer has DEMOGRAPHIC, INDICATORS, SCORES, MOBILITY data.\n",
      "2021-03-12 10:00:31,430 - fairisk_dataset - WARNING - Guernsey no longer has DEMOGRAPHIC, INDICATORS, SCORES data.\n",
      "2021-03-12 10:00:31,430 - fairisk_dataset - WARNING - Guinea no longer has DEMOGRAPHIC, INDICATORS, SCORES, MOBILITY data.\n",
      "2021-03-12 10:00:31,431 - fairisk_dataset - WARNING - Guinea-Bissau no longer has DEMOGRAPHIC, INDICATORS, SCORES, MOBILITY data.\n",
      "2021-03-12 10:00:31,431 - fairisk_dataset - WARNING - Guyana no longer has DEMOGRAPHIC, INDICATORS, SCORES, MOBILITY data.\n",
      "2021-03-12 10:00:31,432 - fairisk_dataset - WARNING - Haiti no longer has DEMOGRAPHIC, INDICATORS, SCORES, MOBILITY data.\n",
      "2021-03-12 10:00:31,432 - fairisk_dataset - WARNING - Honduras no longer has DEMOGRAPHIC, INDICATORS, SCORES, MOBILITY data.\n",
      "2021-03-12 10:00:31,433 - fairisk_dataset - WARNING - Hong Kong no longer has DEMOGRAPHIC, INDICATORS, SCORES, MOBILITY data.\n",
      "2021-03-12 10:00:31,433 - fairisk_dataset - WARNING - Hungary no longer has DEMOGRAPHIC, INDICATORS, SCORES, MORTALITY, MOBILITY data.\n",
      "2021-03-12 10:00:31,433 - fairisk_dataset - WARNING - Iceland no longer has DEMOGRAPHIC, INDICATORS, SCORES, MORTALITY, MOBILITY data.\n",
      "2021-03-12 10:00:31,434 - fairisk_dataset - WARNING - India no longer has DEMOGRAPHIC, INDICATORS, SCORES data.\n",
      "2021-03-12 10:00:31,434 - fairisk_dataset - WARNING - Indonesia no longer has DEMOGRAPHIC, INDICATORS, SCORES, MOBILITY data.\n",
      "2021-03-12 10:00:31,435 - fairisk_dataset - WARNING - Iran no longer has DEMOGRAPHIC, INDICATORS, SCORES data.\n",
      "2021-03-12 10:00:31,435 - fairisk_dataset - WARNING - Iraq no longer has DEMOGRAPHIC, INDICATORS, SCORES, MOBILITY data.\n",
      "2021-03-12 10:00:31,436 - fairisk_dataset - WARNING - Ireland no longer has DEMOGRAPHIC, INDICATORS, SCORES, MOBILITY data.\n",
      "2021-03-12 10:00:31,436 - fairisk_dataset - WARNING - Isle of Man no longer has DEMOGRAPHIC, INDICATORS, SCORES, MOBILITY data.\n",
      "2021-03-12 10:00:31,437 - fairisk_dataset - WARNING - Israel no longer has DEMOGRAPHIC, INDICATORS, SCORES, MORTALITY data.\n",
      "2021-03-12 10:00:31,437 - fairisk_dataset - WARNING - Italy no longer has DEMOGRAPHIC, INDICATORS, SCORES, MORTALITY, MOBILITY data.\n",
      "2021-03-12 10:00:31,438 - fairisk_dataset - WARNING - Jamaica no longer has DEMOGRAPHIC, INDICATORS, SCORES, MOBILITY data.\n",
      "2021-03-12 10:00:31,438 - fairisk_dataset - WARNING - Japan no longer has DEMOGRAPHIC, INDICATORS, SCORES, MOBILITY data.\n",
      "2021-03-12 10:00:31,439 - fairisk_dataset - WARNING - Jersey no longer has DEMOGRAPHIC, INDICATORS, SCORES data.\n",
      "2021-03-12 10:00:31,439 - fairisk_dataset - WARNING - Jordan no longer has DEMOGRAPHIC, INDICATORS, SCORES, MOBILITY data.\n",
      "2021-03-12 10:00:31,440 - fairisk_dataset - WARNING - Kazakhstan no longer has DEMOGRAPHIC, INDICATORS, SCORES, MOBILITY data.\n",
      "2021-03-12 10:00:31,440 - fairisk_dataset - WARNING - Kenya no longer has DEMOGRAPHIC, INDICATORS, SCORES, MOBILITY data.\n",
      "2021-03-12 10:00:31,441 - fairisk_dataset - WARNING - Kosovo no longer has DEMOGRAPHIC, INDICATORS, SCORES data.\n",
      "2021-03-12 10:00:31,441 - fairisk_dataset - WARNING - Kuwait no longer has DEMOGRAPHIC, INDICATORS, SCORES data.\n",
      "2021-03-12 10:00:31,442 - fairisk_dataset - WARNING - Kyrgyz Republic no longer has DEMOGRAPHIC, INDICATORS, SCORES, MOBILITY data.\n",
      "2021-03-12 10:00:31,442 - fairisk_dataset - WARNING - Laos no longer has DEMOGRAPHIC, INDICATORS, SCORES, MOBILITY data.\n",
      "2021-03-12 10:00:31,443 - fairisk_dataset - WARNING - Latvia no longer has DEMOGRAPHIC, INDICATORS, SCORES, MORTALITY, MOBILITY data.\n",
      "2021-03-12 10:00:31,443 - fairisk_dataset - WARNING - Lebanon no longer has DEMOGRAPHIC, INDICATORS, SCORES, MOBILITY data.\n",
      "2021-03-12 10:00:31,444 - fairisk_dataset - WARNING - Lesotho no longer has DEMOGRAPHIC, INDICATORS, SCORES, MOBILITY data.\n",
      "2021-03-12 10:00:31,444 - fairisk_dataset - WARNING - Liberia no longer has DEMOGRAPHIC, INDICATORS, SCORES, MOBILITY data.\n",
      "2021-03-12 10:00:31,445 - fairisk_dataset - WARNING - Libya no longer has DEMOGRAPHIC, INDICATORS, SCORES data.\n",
      "2021-03-12 10:00:31,445 - fairisk_dataset - WARNING - Liechtenstein no longer has DEMOGRAPHIC, INDICATORS, SCORES, MORTALITY data.\n",
      "2021-03-12 10:00:31,446 - fairisk_dataset - WARNING - Lithuania no longer has DEMOGRAPHIC, INDICATORS, SCORES, MORTALITY, MOBILITY data.\n",
      "2021-03-12 10:00:31,446 - fairisk_dataset - WARNING - Luxembourg no longer has DEMOGRAPHIC, INDICATORS, SCORES, MORTALITY, MOBILITY data.\n",
      "2021-03-12 10:00:31,447 - fairisk_dataset - WARNING - Macau no longer has DEMOGRAPHIC, INDICATORS, SCORES, MOBILITY data.\n",
      "2021-03-12 10:00:31,447 - fairisk_dataset - WARNING - Madagascar no longer has DEMOGRAPHIC, INDICATORS, SCORES, MOBILITY data.\n",
      "2021-03-12 10:00:31,448 - fairisk_dataset - WARNING - Malawi no longer has DEMOGRAPHIC, INDICATORS, SCORES, MOBILITY data.\n",
      "2021-03-12 10:00:31,448 - fairisk_dataset - WARNING - Malaysia no longer has DEMOGRAPHIC, INDICATORS, SCORES, MOBILITY data.\n",
      "2021-03-12 10:00:31,449 - fairisk_dataset - WARNING - Maldives no longer has DEMOGRAPHIC, INDICATORS, SCORES data.\n",
      "2021-03-12 10:00:31,449 - fairisk_dataset - WARNING - Mali no longer has DEMOGRAPHIC, INDICATORS, SCORES, MOBILITY data.\n",
      "2021-03-12 10:00:31,450 - fairisk_dataset - WARNING - Malta no longer has DEMOGRAPHIC, INDICATORS, SCORES, MORTALITY, MOBILITY data.\n",
      "2021-03-12 10:00:31,450 - fairisk_dataset - WARNING - Marshall Islands no longer has DEMOGRAPHIC, INDICATORS, SCORES data.\n",
      "2021-03-12 10:00:31,451 - fairisk_dataset - WARNING - Mauritania no longer has DEMOGRAPHIC, INDICATORS, SCORES, MOBILITY data.\n",
      "2021-03-12 10:00:31,451 - fairisk_dataset - WARNING - Mauritius no longer has DEMOGRAPHIC, INDICATORS, SCORES, MOBILITY data.\n",
      "2021-03-12 10:00:31,451 - fairisk_dataset - WARNING - Mexico no longer has DEMOGRAPHIC, INDICATORS, SCORES, MOBILITY data.\n",
      "2021-03-12 10:00:31,452 - fairisk_dataset - WARNING - Micronesia, Fed. Sts. no longer has DEMOGRAPHIC, INDICATORS, SCORES data.\n",
      "2021-03-12 10:00:31,452 - fairisk_dataset - WARNING - Moldova no longer has DEMOGRAPHIC, INDICATORS, SCORES, MOBILITY data.\n",
      "2021-03-12 10:00:31,453 - fairisk_dataset - WARNING - Monaco no longer has DEMOGRAPHIC, INDICATORS, SCORES data.\n",
      "2021-03-12 10:00:31,453 - fairisk_dataset - WARNING - Mongolia no longer has DEMOGRAPHIC, INDICATORS, SCORES, MOBILITY data.\n",
      "2021-03-12 10:00:31,453 - fairisk_dataset - WARNING - Montenegro no longer has DEMOGRAPHIC, INDICATORS, SCORES, MORTALITY data.\n",
      "2021-03-12 10:00:31,454 - fairisk_dataset - WARNING - Morocco no longer has DEMOGRAPHIC, INDICATORS, SCORES data.\n",
      "2021-03-12 10:00:31,454 - fairisk_dataset - WARNING - Mozambique no longer has DEMOGRAPHIC, INDICATORS, SCORES, MOBILITY data.\n",
      "2021-03-12 10:00:31,455 - fairisk_dataset - WARNING - Myanmar no longer has DEMOGRAPHIC, INDICATORS, SCORES data.\n",
      "2021-03-12 10:00:31,455 - fairisk_dataset - WARNING - Namibia no longer has DEMOGRAPHIC, INDICATORS, SCORES, MOBILITY data.\n",
      "2021-03-12 10:00:31,456 - fairisk_dataset - WARNING - Nepal no longer has DEMOGRAPHIC, INDICATORS, SCORES, MOBILITY data.\n",
      "2021-03-12 10:00:31,456 - fairisk_dataset - WARNING - Netherlands no longer has DEMOGRAPHIC, INDICATORS, SCORES, MORTALITY, MOBILITY data.\n",
      "2021-03-12 10:00:31,456 - fairisk_dataset - WARNING - New Zealand no longer has DEMOGRAPHIC, INDICATORS, SCORES, MOBILITY, MORTALITY data.\n",
      "2021-03-12 10:00:31,457 - fairisk_dataset - WARNING - Nicaragua no longer has DEMOGRAPHIC, INDICATORS, SCORES, MOBILITY data.\n",
      "2021-03-12 10:00:31,457 - fairisk_dataset - WARNING - Niger no longer has DEMOGRAPHIC, INDICATORS, SCORES, MOBILITY data.\n",
      "2021-03-12 10:00:31,458 - fairisk_dataset - WARNING - Nigeria no longer has DEMOGRAPHIC, INDICATORS, SCORES, MOBILITY data.\n",
      "2021-03-12 10:00:31,458 - fairisk_dataset - WARNING - Macedonia no longer has DEMOGRAPHIC, INDICATORS, SCORES, MOBILITY data.\n",
      "2021-03-12 10:00:31,459 - fairisk_dataset - WARNING - Norway no longer has DEMOGRAPHIC, INDICATORS, SCORES, MORTALITY, MOBILITY data.\n",
      "2021-03-12 10:00:31,459 - fairisk_dataset - WARNING - Oman no longer has DEMOGRAPHIC, INDICATORS, SCORES, MOBILITY data.\n",
      "2021-03-12 10:00:31,460 - fairisk_dataset - WARNING - Pakistan no longer has DEMOGRAPHIC, INDICATORS, SCORES data.\n",
      "2021-03-12 10:00:31,460 - fairisk_dataset - WARNING - Palestine no longer has DEMOGRAPHIC, INDICATORS, SCORES data.\n",
      "2021-03-12 10:00:31,460 - fairisk_dataset - WARNING - Panama no longer has DEMOGRAPHIC, INDICATORS, SCORES, MOBILITY data.\n",
      "2021-03-12 10:00:31,461 - fairisk_dataset - WARNING - Papua New Guinea no longer has DEMOGRAPHIC, INDICATORS, SCORES, MOBILITY data.\n",
      "2021-03-12 10:00:31,461 - fairisk_dataset - WARNING - Paraguay no longer has DEMOGRAPHIC, INDICATORS, SCORES, MOBILITY data.\n",
      "2021-03-12 10:00:31,462 - fairisk_dataset - WARNING - Peru no longer has DEMOGRAPHIC, INDICATORS, SCORES, MOBILITY data.\n",
      "2021-03-12 10:00:31,462 - fairisk_dataset - WARNING - Philippines no longer has DEMOGRAPHIC, INDICATORS, SCORES, MOBILITY data.\n",
      "2021-03-12 10:00:31,463 - fairisk_dataset - WARNING - Poland no longer has DEMOGRAPHIC, INDICATORS, SCORES, MORTALITY, MOBILITY data.\n",
      "2021-03-12 10:00:31,463 - fairisk_dataset - WARNING - Portugal no longer has DEMOGRAPHIC, INDICATORS, SCORES, MORTALITY, MOBILITY data.\n",
      "2021-03-12 10:00:31,464 - fairisk_dataset - WARNING - Qatar no longer has DEMOGRAPHIC, INDICATORS, SCORES, MOBILITY data.\n",
      "2021-03-12 10:00:31,464 - fairisk_dataset - WARNING - Romania no longer has DEMOGRAPHIC, INDICATORS, SCORES, MORTALITY, MOBILITY data.\n",
      "2021-03-12 10:00:31,464 - fairisk_dataset - WARNING - Russia no longer has DEMOGRAPHIC, INDICATORS, SCORES, MORTALITY data.\n",
      "2021-03-12 10:00:31,465 - fairisk_dataset - WARNING - Rwanda no longer has DEMOGRAPHIC, INDICATORS, SCORES, MOBILITY data.\n",
      "2021-03-12 10:00:31,465 - fairisk_dataset - WARNING - St. Helena no longer has DEMOGRAPHIC, INDICATORS, SCORES data.\n",
      "2021-03-12 10:00:31,466 - fairisk_dataset - WARNING - St. Kitts and Nevis no longer has DEMOGRAPHIC, INDICATORS, SCORES data.\n",
      "2021-03-12 10:00:31,466 - fairisk_dataset - WARNING - St. Lucia no longer has DEMOGRAPHIC, INDICATORS, SCORES data.\n",
      "2021-03-12 10:00:31,466 - fairisk_dataset - WARNING - St. Vincent and the Grenadines no longer has DEMOGRAPHIC, INDICATORS, SCORES data.\n",
      "2021-03-12 10:00:31,467 - fairisk_dataset - WARNING - Samoa no longer has DEMOGRAPHIC, INDICATORS, SCORES, MOBILITY data.\n",
      "2021-03-12 10:00:31,467 - fairisk_dataset - WARNING - San Marino no longer has DEMOGRAPHIC, INDICATORS, SCORES data.\n",
      "2021-03-12 10:00:31,468 - fairisk_dataset - WARNING - Sao Tome and Principe no longer has DEMOGRAPHIC, INDICATORS, SCORES, MOBILITY data.\n",
      "2021-03-12 10:00:31,468 - fairisk_dataset - WARNING - Saudi Arabia no longer has DEMOGRAPHIC, INDICATORS, SCORES, MOBILITY data.\n",
      "2021-03-12 10:00:31,468 - fairisk_dataset - WARNING - Senegal no longer has DEMOGRAPHIC, INDICATORS, SCORES, MOBILITY data.\n",
      "2021-03-12 10:00:31,469 - fairisk_dataset - WARNING - Serbia no longer has DEMOGRAPHIC, INDICATORS, SCORES, MORTALITY, MOBILITY data.\n",
      "2021-03-12 10:00:31,469 - fairisk_dataset - WARNING - Seychelles no longer has DEMOGRAPHIC, INDICATORS, SCORES data.\n",
      "2021-03-12 10:00:31,470 - fairisk_dataset - WARNING - Sierra Leone no longer has DEMOGRAPHIC, INDICATORS, SCORES, MOBILITY data.\n",
      "2021-03-12 10:00:31,470 - fairisk_dataset - WARNING - Singapore no longer has DEMOGRAPHIC, INDICATORS, SCORES data.\n",
      "2021-03-12 10:00:31,470 - fairisk_dataset - WARNING - Slovakia no longer has DEMOGRAPHIC, INDICATORS, SCORES, MORTALITY, MOBILITY data.\n",
      "2021-03-12 10:00:31,471 - fairisk_dataset - WARNING - Slovenia no longer has DEMOGRAPHIC, INDICATORS, SCORES, MORTALITY, MOBILITY data.\n",
      "2021-03-12 10:00:31,471 - fairisk_dataset - WARNING - Solomon Islands no longer has DEMOGRAPHIC, INDICATORS, SCORES data.\n",
      "2021-03-12 10:00:31,472 - fairisk_dataset - WARNING - Somalia no longer has DEMOGRAPHIC, INDICATORS, SCORES data.\n",
      "2021-03-12 10:00:31,472 - fairisk_dataset - WARNING - South Africa no longer has DEMOGRAPHIC, INDICATORS, SCORES, MOBILITY data.\n",
      "2021-03-12 10:00:31,473 - fairisk_dataset - WARNING - South Korea no longer has DEMOGRAPHIC, INDICATORS, SCORES, MOBILITY, MORTALITY data.\n",
      "2021-03-12 10:00:31,473 - fairisk_dataset - WARNING - South Sudan no longer has DEMOGRAPHIC, INDICATORS, SCORES data.\n",
      "2021-03-12 10:00:31,473 - fairisk_dataset - WARNING - Spain no longer has DEMOGRAPHIC, INDICATORS, SCORES, MORTALITY, MOBILITY data.\n",
      "2021-03-12 10:00:31,474 - fairisk_dataset - WARNING - Sri Lanka no longer has DEMOGRAPHIC, INDICATORS, SCORES, MOBILITY data.\n",
      "2021-03-12 10:00:31,474 - fairisk_dataset - WARNING - Sudan no longer has DEMOGRAPHIC, INDICATORS, SCORES data.\n",
      "2021-03-12 10:00:31,475 - fairisk_dataset - WARNING - Suriname no longer has DEMOGRAPHIC, INDICATORS, SCORES, MOBILITY data.\n",
      "2021-03-12 10:00:31,476 - fairisk_dataset - WARNING - Sweden no longer has DEMOGRAPHIC, INDICATORS, SCORES, MORTALITY, MOBILITY data.\n",
      "2021-03-12 10:00:31,477 - fairisk_dataset - WARNING - Switzerland no longer has DEMOGRAPHIC, INDICATORS, SCORES, MORTALITY, MOBILITY data.\n",
      "2021-03-12 10:00:31,477 - fairisk_dataset - WARNING - Syria no longer has DEMOGRAPHIC, INDICATORS, SCORES data.\n",
      "2021-03-12 10:00:31,478 - fairisk_dataset - WARNING - Taiwan no longer has DEMOGRAPHIC, INDICATORS, SCORES, MOBILITY, MORTALITY data.\n",
      "2021-03-12 10:00:31,478 - fairisk_dataset - WARNING - Tajikistan no longer has DEMOGRAPHIC, INDICATORS, SCORES, MOBILITY data.\n",
      "2021-03-12 10:00:31,479 - fairisk_dataset - WARNING - Tanzania no longer has DEMOGRAPHIC, INDICATORS, SCORES, MOBILITY data.\n",
      "2021-03-12 10:00:31,479 - fairisk_dataset - WARNING - Thailand no longer has DEMOGRAPHIC, INDICATORS, SCORES, MOBILITY data.\n",
      "2021-03-12 10:00:31,480 - fairisk_dataset - WARNING - Timor-Leste no longer has DEMOGRAPHIC, INDICATORS, SCORES, MOBILITY data.\n",
      "2021-03-12 10:00:31,480 - fairisk_dataset - WARNING - Togo no longer has DEMOGRAPHIC, INDICATORS, SCORES, MOBILITY data.\n",
      "2021-03-12 10:00:31,480 - fairisk_dataset - WARNING - Trinidad and Tobago no longer has DEMOGRAPHIC, INDICATORS, SCORES, MOBILITY data.\n",
      "2021-03-12 10:00:31,481 - fairisk_dataset - WARNING - Tunisia no longer has DEMOGRAPHIC, INDICATORS, SCORES, MOBILITY data.\n",
      "2021-03-12 10:00:31,481 - fairisk_dataset - WARNING - Turkey no longer has DEMOGRAPHIC, INDICATORS, SCORES, MOBILITY data.\n",
      "2021-03-12 10:00:31,482 - fairisk_dataset - WARNING - Turks and Caicos Islands no longer has DEMOGRAPHIC, INDICATORS, SCORES data.\n",
      "2021-03-12 10:00:31,482 - fairisk_dataset - WARNING - Uganda no longer has DEMOGRAPHIC, INDICATORS, SCORES, MOBILITY data.\n",
      "2021-03-12 10:00:31,483 - fairisk_dataset - WARNING - Ukraine no longer has DEMOGRAPHIC, INDICATORS, SCORES data.\n",
      "2021-03-12 10:00:31,484 - fairisk_dataset - WARNING - United Arab Emirates no longer has DEMOGRAPHIC, INDICATORS, SCORES, MOBILITY data.\n",
      "2021-03-12 10:00:31,484 - fairisk_dataset - WARNING - United Kingdom no longer has DEMOGRAPHIC, INDICATORS, SCORES, MORTALITY, MOBILITY data.\n",
      "2021-03-12 10:00:31,484 - fairisk_dataset - WARNING - United States no longer has DEMOGRAPHIC, INDICATORS, SCORES, MOBILITY, MORTALITY data.\n",
      "2021-03-12 10:00:31,485 - fairisk_dataset - WARNING - Uruguay no longer has DEMOGRAPHIC, INDICATORS, SCORES, MOBILITY data.\n",
      "2021-03-12 10:00:31,485 - fairisk_dataset - WARNING - Uzbekistan no longer has DEMOGRAPHIC, INDICATORS, SCORES, MOBILITY data.\n",
      "2021-03-12 10:00:31,486 - fairisk_dataset - WARNING - Vanuatu no longer has DEMOGRAPHIC, INDICATORS, SCORES, MOBILITY data.\n",
      "2021-03-12 10:00:31,486 - fairisk_dataset - WARNING - Vatican no longer has DEMOGRAPHIC, INDICATORS, SCORES data.\n",
      "2021-03-12 10:00:31,487 - fairisk_dataset - WARNING - Venezuela no longer has DEMOGRAPHIC, INDICATORS, SCORES data.\n",
      "2021-03-12 10:00:31,487 - fairisk_dataset - WARNING - Vietnam no longer has DEMOGRAPHIC, INDICATORS, SCORES, MOBILITY data.\n",
      "2021-03-12 10:00:31,487 - fairisk_dataset - WARNING - Yemen no longer has DEMOGRAPHIC, INDICATORS, SCORES data.\n",
      "2021-03-12 10:00:31,488 - fairisk_dataset - WARNING - Zambia no longer has DEMOGRAPHIC, INDICATORS, SCORES, MOBILITY data.\n",
      "2021-03-12 10:00:31,488 - fairisk_dataset - WARNING - Zimbabwe no longer has DEMOGRAPHIC, INDICATORS, SCORES, MOBILITY data.\n",
      "2021-03-12 10:00:31,489 - fairisk_dataset - WARNING - Kiribati has been erased as it no longer had data.\n",
      "2021-03-12 10:00:31,489 - fairisk_dataset - WARNING - Nauru has been erased as it no longer had data.\n",
      "2021-03-12 10:00:31,490 - fairisk_dataset - WARNING - Palau has been erased as it no longer had data.\n",
      "2021-03-12 10:00:31,490 - fairisk_dataset - WARNING - Tonga has been erased as it no longer had data.\n",
      "2021-03-12 10:00:31,491 - fairisk_dataset - WARNING - Turkmenistan has been erased as it no longer had data.\n",
      "2021-03-12 10:00:31,492 - fairisk_dataset - WARNING - Tuvalu has been erased as it no longer had data.\n",
      "2021-03-12 10:00:31,493 - fairisk_dataset - WARNING - American Samoa has been erased as it no longer had data.\n",
      "2021-03-12 10:00:31,493 - fairisk_dataset - WARNING - Guadeloupe has been erased as it no longer had data.\n",
      "2021-03-12 10:00:31,494 - fairisk_dataset - WARNING - French Guiana has been erased as it no longer had data.\n",
      "2021-03-12 10:00:31,495 - fairisk_dataset - WARNING - Martinique has been erased as it no longer had data.\n",
      "2021-03-12 10:00:31,495 - fairisk_dataset - WARNING - New Caledonia has been erased as it no longer had data.\n",
      "2021-03-12 10:00:31,496 - fairisk_dataset - WARNING - Reunion has been erased as it no longer had data.\n",
      "2021-03-12 10:00:31,496 - fairisk_dataset - WARNING - United States Virgin Islands has been erased as it no longer had data.\n",
      "dict_keys(['new_cases', 'total_deaths'])\n",
      "CPU times: user 136 ms, sys: 22.9 ms, total: 159 ms\n",
      "Wall time: 154 ms\n",
      "dict_keys(['ATTR_NAME', 'SOURCE', 'UNIT', 'VALUE', 'FREQUENCY', 'SERIES_TYPE'])\n",
      "CPU times: user 1.91 ms, sys: 121 µs, total: 2.03 ms\n",
      "Wall time: 2.03 ms\n"
     ]
    }
   ],
   "source": [
    "%autoreload 2\n",
    "\n",
    "dataset = FAIRiskDataset.load()\n",
    "\n",
    "# new api\n",
    "%time print(dataset.filter_countries([\"Portugal\", \"Spain\"]).get().keys())\n",
    "%time print(dataset.filter_countries([\"Portugal\", \"Spain\"]).get()[\"Portugal\"].keys())\n",
    "dataset = FAIRiskDataset.load()\n",
    "%time print(dataset.filter_countries([\"Portugal\", \"Spain\"]).filter_categories(\"COVID\").get()[\"Portugal\"].keys())\n",
    "%time print(dataset.filter_countries([\"Portugal\", \"Spain\"]).filter_categories(\"COVID\").get()[\"Portugal\"][\"COVID\"].keys())\n",
    "dataset = FAIRiskDataset.load()\n",
    "%time print(dataset.filter_attributes([(\"COVID\", \"total_deaths\"), (\"COVID\", \"new_cases\")]).get()[\"Portugal\"][\"COVID\"].keys())\n",
    "%time print(dataset.filter_attributes([(\"COVID\", \"total_deaths\"), (\"COVID\", \"new_cases\")]).get()[\"Portugal\"][\"COVID\"][\"total_deaths\"].keys())\n"
   ]
  },
  {
   "cell_type": "code",
   "execution_count": 7,
   "metadata": {
    "tags": []
   },
   "outputs": [
    {
     "output_type": "stream",
     "name": "stdout",
     "text": [
      "2021-03-12 10:02:02,850 - fairisk_dataset - WARNING - Andorra no longer has DEMOGRAPHIC data.\n",
      "2021-03-12 10:02:02,852 - fairisk_dataset - WARNING - Armenia no longer has DEMOGRAPHIC data.\n",
      "2021-03-12 10:02:02,853 - fairisk_dataset - WARNING - Azerbaijan no longer has DEMOGRAPHIC data.\n",
      "2021-03-12 10:02:02,854 - fairisk_dataset - WARNING - Belarus no longer has DEMOGRAPHIC data.\n",
      "2021-03-12 10:02:02,856 - fairisk_dataset - WARNING - Bosnia and Herzegovina no longer has DEMOGRAPHIC data.\n",
      "2021-03-12 10:02:02,863 - fairisk_dataset - WARNING - France no longer has DEMOGRAPHIC data.\n",
      "2021-03-12 10:02:02,865 - fairisk_dataset - WARNING - Georgia no longer has DEMOGRAPHIC data.\n",
      "2021-03-12 10:02:02,870 - fairisk_dataset - WARNING - Kosovo no longer has DEMOGRAPHIC data.\n",
      "2021-03-12 10:02:02,875 - fairisk_dataset - WARNING - Moldova no longer has DEMOGRAPHIC data.\n",
      "2021-03-12 10:02:02,876 - fairisk_dataset - WARNING - Monaco no longer has DEMOGRAPHIC data.\n",
      "2021-03-12 10:02:02,881 - fairisk_dataset - WARNING - Russia no longer has DEMOGRAPHIC, MORTALITY data.\n",
      "2021-03-12 10:02:02,883 - fairisk_dataset - WARNING - San Marino no longer has DEMOGRAPHIC data.\n",
      "2021-03-12 10:02:02,889 - fairisk_dataset - WARNING - Ukraine no longer has DEMOGRAPHIC data.\n",
      "Index(['2020-02-02', '2020-02-09', '2020-02-16', '2020-02-23', '2020-03-01',\n",
      "       '2020-03-02', '2020-03-03', '2020-03-04', '2020-03-05', '2020-03-06',\n",
      "       ...\n",
      "       '2020-12-22', '2020-12-23', '2020-12-24', '2020-12-25', '2020-12-26',\n",
      "       '2020-12-27', '2020-12-28', '2020-12-29', '2020-12-30', '2020-12-31'],\n",
      "      dtype='object', length=310)\n",
      "CPU times: user 1min 23s, sys: 663 ms, total: 1min 24s\n",
      "Wall time: 1min 25s\n",
      "2021-03-12 10:03:27,910 - fairisk_dataset - WARNING - Albania no longer has MOBILITY data.\n",
      "2021-03-12 10:03:27,911 - fairisk_dataset - WARNING - Algeria no longer has MOBILITY data.\n",
      "2021-03-12 10:03:27,912 - fairisk_dataset - WARNING - Andorra no longer has DEMOGRAPHIC data.\n",
      "2021-03-12 10:03:27,912 - fairisk_dataset - WARNING - Angola no longer has MOBILITY data.\n",
      "2021-03-12 10:03:27,913 - fairisk_dataset - WARNING - Argentina no longer has MOBILITY data.\n",
      "2021-03-12 10:03:27,914 - fairisk_dataset - WARNING - Armenia no longer has DEMOGRAPHIC data.\n",
      "2021-03-12 10:03:27,915 - fairisk_dataset - WARNING - Australia no longer has MOBILITY data.\n",
      "2021-03-12 10:03:27,916 - fairisk_dataset - WARNING - Austria no longer has COVID, MOBILITY data.\n",
      "2021-03-12 10:03:27,917 - fairisk_dataset - WARNING - Bangladesh no longer has MOBILITY data.\n",
      "2021-03-12 10:03:27,918 - fairisk_dataset - WARNING - Belarus no longer has MOBILITY data.\n",
      "2021-03-12 10:03:27,920 - fairisk_dataset - WARNING - Belgium no longer has COVID, MOBILITY data.\n",
      "2021-03-12 10:03:27,921 - fairisk_dataset - WARNING - Benin no longer has MOBILITY data.\n",
      "2021-03-12 10:03:27,922 - fairisk_dataset - WARNING - Bhutan no longer has MOBILITY data.\n",
      "2021-03-12 10:03:27,923 - fairisk_dataset - WARNING - Bolivia no longer has MOBILITY data.\n",
      "2021-03-12 10:03:27,924 - fairisk_dataset - WARNING - Bosnia and Herzegovina no longer has DEMOGRAPHIC, MOBILITY data.\n",
      "2021-03-12 10:03:27,925 - fairisk_dataset - WARNING - Botswana no longer has MOBILITY data.\n",
      "2021-03-12 10:03:27,926 - fairisk_dataset - WARNING - Brazil no longer has MOBILITY data.\n",
      "2021-03-12 10:03:27,926 - fairisk_dataset - WARNING - Brunei Darussalam no longer has MOBILITY data.\n",
      "2021-03-12 10:03:27,927 - fairisk_dataset - WARNING - Bulgaria no longer has COVID, MOBILITY data.\n",
      "2021-03-12 10:03:27,928 - fairisk_dataset - WARNING - Burkina Faso no longer has MOBILITY data.\n",
      "2021-03-12 10:03:27,929 - fairisk_dataset - WARNING - Burundi no longer has MOBILITY data.\n",
      "2021-03-12 10:03:27,930 - fairisk_dataset - WARNING - Cambodia no longer has MOBILITY data.\n",
      "2021-03-12 10:03:27,931 - fairisk_dataset - WARNING - Cameroon no longer has MOBILITY data.\n",
      "2021-03-12 10:03:27,931 - fairisk_dataset - WARNING - Canada no longer has COVID, MOBILITY data.\n",
      "2021-03-12 10:03:27,932 - fairisk_dataset - WARNING - Central African Republic no longer has MOBILITY data.\n",
      "2021-03-12 10:03:27,933 - fairisk_dataset - WARNING - Chad no longer has MOBILITY data.\n",
      "2021-03-12 10:03:27,934 - fairisk_dataset - WARNING - Chile no longer has MOBILITY, MORTALITY data.\n",
      "2021-03-12 10:03:27,935 - fairisk_dataset - WARNING - Colombia no longer has MOBILITY data.\n",
      "2021-03-12 10:03:27,937 - fairisk_dataset - WARNING - Congo Republic no longer has MOBILITY data.\n",
      "2021-03-12 10:03:27,939 - fairisk_dataset - WARNING - Costa Rica no longer has MOBILITY data.\n",
      "2021-03-12 10:03:27,940 - fairisk_dataset - WARNING - Cote d'Ivoire no longer has MOBILITY data.\n",
      "2021-03-12 10:03:27,942 - fairisk_dataset - WARNING - Croatia no longer has MOBILITY data.\n",
      "2021-03-12 10:03:27,944 - fairisk_dataset - WARNING - Czech Republic no longer has MOBILITY data.\n",
      "2021-03-12 10:03:27,945 - fairisk_dataset - WARNING - DR Congo no longer has MOBILITY data.\n",
      "2021-03-12 10:03:27,946 - fairisk_dataset - WARNING - Denmark no longer has COVID, MOBILITY data.\n",
      "2021-03-12 10:03:27,947 - fairisk_dataset - WARNING - Djibouti no longer has MOBILITY data.\n",
      "2021-03-12 10:03:27,948 - fairisk_dataset - WARNING - Dominica no longer has MOBILITY data.\n",
      "2021-03-12 10:03:27,949 - fairisk_dataset - WARNING - Dominican Republic no longer has MOBILITY data.\n",
      "2021-03-12 10:03:27,950 - fairisk_dataset - WARNING - Ecuador no longer has MOBILITY data.\n",
      "2021-03-12 10:03:27,951 - fairisk_dataset - WARNING - Egypt no longer has MOBILITY data.\n",
      "2021-03-12 10:03:27,952 - fairisk_dataset - WARNING - El Salvador no longer has MOBILITY data.\n",
      "2021-03-12 10:03:27,953 - fairisk_dataset - WARNING - Equatorial Guinea no longer has MOBILITY data.\n",
      "2021-03-12 10:03:27,955 - fairisk_dataset - WARNING - Estonia no longer has COVID, MOBILITY data.\n",
      "2021-03-12 10:03:27,957 - fairisk_dataset - WARNING - Ethiopia no longer has MOBILITY data.\n",
      "2021-03-12 10:03:27,958 - fairisk_dataset - WARNING - Faeroe Islands no longer has MOBILITY data.\n",
      "2021-03-12 10:03:27,959 - fairisk_dataset - WARNING - Fiji no longer has MOBILITY data.\n",
      "2021-03-12 10:03:27,960 - fairisk_dataset - WARNING - Finland no longer has COVID, MOBILITY data.\n",
      "2021-03-12 10:03:27,961 - fairisk_dataset - WARNING - France no longer has DEMOGRAPHIC, MOBILITY data.\n",
      "2021-03-12 10:03:27,962 - fairisk_dataset - WARNING - Gabon no longer has MOBILITY data.\n",
      "2021-03-12 10:03:27,963 - fairisk_dataset - WARNING - Gambia no longer has MOBILITY data.\n",
      "2021-03-12 10:03:27,964 - fairisk_dataset - WARNING - Georgia no longer has MOBILITY data.\n",
      "2021-03-12 10:03:27,965 - fairisk_dataset - WARNING - Germany no longer has MORTALITY, MOBILITY data.\n",
      "2021-03-12 10:03:27,966 - fairisk_dataset - WARNING - Ghana no longer has MOBILITY data.\n",
      "2021-03-12 10:03:27,968 - fairisk_dataset - WARNING - Greece no longer has MOBILITY data.\n",
      "2021-03-12 10:03:27,969 - fairisk_dataset - WARNING - Guatemala no longer has MOBILITY data.\n",
      "2021-03-12 10:03:27,971 - fairisk_dataset - WARNING - Guinea no longer has MOBILITY data.\n",
      "2021-03-12 10:03:27,973 - fairisk_dataset - WARNING - Guinea-Bissau no longer has MOBILITY data.\n",
      "2021-03-12 10:03:27,973 - fairisk_dataset - WARNING - Guyana no longer has MOBILITY data.\n",
      "2021-03-12 10:03:27,975 - fairisk_dataset - WARNING - Haiti no longer has MOBILITY data.\n",
      "2021-03-12 10:03:27,975 - fairisk_dataset - WARNING - Honduras no longer has MOBILITY data.\n",
      "2021-03-12 10:03:27,977 - fairisk_dataset - WARNING - Hong Kong no longer has MOBILITY data.\n",
      "2021-03-12 10:03:27,978 - fairisk_dataset - WARNING - Hungary no longer has MOBILITY data.\n",
      "2021-03-12 10:03:27,979 - fairisk_dataset - WARNING - Iceland no longer has COVID, MOBILITY data.\n",
      "2021-03-12 10:03:27,981 - fairisk_dataset - WARNING - Indonesia no longer has MOBILITY data.\n",
      "2021-03-12 10:03:27,982 - fairisk_dataset - WARNING - Iraq no longer has MOBILITY data.\n",
      "2021-03-12 10:03:27,983 - fairisk_dataset - WARNING - Ireland no longer has COVID, MOBILITY data.\n",
      "2021-03-12 10:03:27,984 - fairisk_dataset - WARNING - Isle of Man no longer has MOBILITY data.\n",
      "2021-03-12 10:03:27,984 - fairisk_dataset - WARNING - Israel no longer has COVID data.\n",
      "2021-03-12 10:03:27,986 - fairisk_dataset - WARNING - Italy no longer has COVID, MOBILITY data.\n",
      "2021-03-12 10:03:27,989 - fairisk_dataset - WARNING - Jamaica no longer has MOBILITY data.\n",
      "2021-03-12 10:03:27,990 - fairisk_dataset - WARNING - Japan no longer has MOBILITY data.\n",
      "2021-03-12 10:03:27,992 - fairisk_dataset - WARNING - Jordan no longer has MOBILITY data.\n",
      "2021-03-12 10:03:27,993 - fairisk_dataset - WARNING - Kazakhstan no longer has MOBILITY data.\n",
      "2021-03-12 10:03:27,994 - fairisk_dataset - WARNING - Kenya no longer has MOBILITY data.\n",
      "2021-03-12 10:03:27,995 - fairisk_dataset - WARNING - Kosovo no longer has DEMOGRAPHIC data.\n",
      "2021-03-12 10:03:27,996 - fairisk_dataset - WARNING - Kyrgyz Republic no longer has MOBILITY data.\n",
      "2021-03-12 10:03:27,997 - fairisk_dataset - WARNING - Laos no longer has MOBILITY data.\n",
      "2021-03-12 10:03:27,998 - fairisk_dataset - WARNING - Latvia no longer has MOBILITY data.\n",
      "2021-03-12 10:03:27,999 - fairisk_dataset - WARNING - Lebanon no longer has MOBILITY data.\n",
      "2021-03-12 10:03:28,001 - fairisk_dataset - WARNING - Lesotho no longer has MOBILITY data.\n",
      "2021-03-12 10:03:28,002 - fairisk_dataset - WARNING - Liberia no longer has MOBILITY data.\n",
      "2021-03-12 10:03:28,004 - fairisk_dataset - WARNING - Lithuania no longer has MOBILITY data.\n",
      "2021-03-12 10:03:28,006 - fairisk_dataset - WARNING - Luxembourg no longer has COVID, MOBILITY data.\n",
      "2021-03-12 10:03:28,007 - fairisk_dataset - WARNING - Macau no longer has MOBILITY data.\n",
      "2021-03-12 10:03:28,008 - fairisk_dataset - WARNING - Madagascar no longer has MOBILITY data.\n",
      "2021-03-12 10:03:28,009 - fairisk_dataset - WARNING - Malawi no longer has MOBILITY data.\n",
      "2021-03-12 10:03:28,010 - fairisk_dataset - WARNING - Malaysia no longer has MOBILITY data.\n",
      "2021-03-12 10:03:28,011 - fairisk_dataset - WARNING - Mali no longer has MOBILITY data.\n",
      "2021-03-12 10:03:28,012 - fairisk_dataset - WARNING - Malta no longer has MOBILITY data.\n",
      "2021-03-12 10:03:28,013 - fairisk_dataset - WARNING - Mauritania no longer has MOBILITY data.\n",
      "2021-03-12 10:03:28,014 - fairisk_dataset - WARNING - Mauritius no longer has MOBILITY data.\n",
      "2021-03-12 10:03:28,015 - fairisk_dataset - WARNING - Mexico no longer has MOBILITY data.\n",
      "2021-03-12 10:03:28,016 - fairisk_dataset - WARNING - Moldova no longer has MOBILITY data.\n",
      "2021-03-12 10:03:28,017 - fairisk_dataset - WARNING - Monaco no longer has DEMOGRAPHIC data.\n",
      "2021-03-12 10:03:28,017 - fairisk_dataset - WARNING - Mongolia no longer has MOBILITY data.\n",
      "2021-03-12 10:03:28,019 - fairisk_dataset - WARNING - Mozambique no longer has MOBILITY data.\n",
      "2021-03-12 10:03:28,021 - fairisk_dataset - WARNING - Namibia no longer has MOBILITY data.\n",
      "2021-03-12 10:03:28,023 - fairisk_dataset - WARNING - Nepal no longer has MOBILITY data.\n",
      "2021-03-12 10:03:28,024 - fairisk_dataset - WARNING - Netherlands no longer has MOBILITY data.\n",
      "2021-03-12 10:03:28,025 - fairisk_dataset - WARNING - New Zealand no longer has MOBILITY data.\n",
      "2021-03-12 10:03:28,026 - fairisk_dataset - WARNING - Nicaragua no longer has MOBILITY data.\n",
      "2021-03-12 10:03:28,027 - fairisk_dataset - WARNING - Niger no longer has MOBILITY data.\n",
      "2021-03-12 10:03:28,028 - fairisk_dataset - WARNING - Nigeria no longer has MOBILITY data.\n",
      "2021-03-12 10:03:28,029 - fairisk_dataset - WARNING - Macedonia no longer has MOBILITY data.\n",
      "2021-03-12 10:03:28,030 - fairisk_dataset - WARNING - Norway no longer has MOBILITY data.\n",
      "2021-03-12 10:03:28,031 - fairisk_dataset - WARNING - Oman no longer has MOBILITY data.\n",
      "2021-03-12 10:03:28,032 - fairisk_dataset - WARNING - Panama no longer has MOBILITY data.\n",
      "2021-03-12 10:03:28,033 - fairisk_dataset - WARNING - Papua New Guinea no longer has MOBILITY data.\n",
      "2021-03-12 10:03:28,034 - fairisk_dataset - WARNING - Paraguay no longer has MOBILITY data.\n",
      "2021-03-12 10:03:28,035 - fairisk_dataset - WARNING - Peru no longer has MOBILITY data.\n",
      "2021-03-12 10:03:28,036 - fairisk_dataset - WARNING - Philippines no longer has MOBILITY data.\n",
      "2021-03-12 10:03:28,038 - fairisk_dataset - WARNING - Poland no longer has MOBILITY data.\n",
      "2021-03-12 10:03:28,040 - fairisk_dataset - WARNING - Portugal no longer has COVID, MOBILITY data.\n",
      "2021-03-12 10:03:28,041 - fairisk_dataset - WARNING - Qatar no longer has MOBILITY data.\n",
      "2021-03-12 10:03:28,043 - fairisk_dataset - WARNING - Romania no longer has MOBILITY data.\n",
      "2021-03-12 10:03:28,044 - fairisk_dataset - WARNING - Rwanda no longer has MOBILITY data.\n",
      "2021-03-12 10:03:28,045 - fairisk_dataset - WARNING - Samoa no longer has MOBILITY data.\n",
      "2021-03-12 10:03:28,047 - fairisk_dataset - WARNING - San Marino no longer has DEMOGRAPHIC data.\n",
      "2021-03-12 10:03:28,048 - fairisk_dataset - WARNING - Sao Tome and Principe no longer has MOBILITY data.\n",
      "2021-03-12 10:03:28,049 - fairisk_dataset - WARNING - Saudi Arabia no longer has MOBILITY data.\n",
      "2021-03-12 10:03:28,050 - fairisk_dataset - WARNING - Senegal no longer has MOBILITY data.\n",
      "2021-03-12 10:03:28,051 - fairisk_dataset - WARNING - Serbia no longer has MOBILITY data.\n",
      "2021-03-12 10:03:28,053 - fairisk_dataset - WARNING - Sierra Leone no longer has MOBILITY data.\n",
      "2021-03-12 10:03:28,056 - fairisk_dataset - WARNING - Slovakia no longer has MOBILITY data.\n",
      "2021-03-12 10:03:28,059 - fairisk_dataset - WARNING - Slovenia no longer has COVID, MOBILITY data.\n",
      "2021-03-12 10:03:28,061 - fairisk_dataset - WARNING - South Africa no longer has MOBILITY data.\n",
      "2021-03-12 10:03:28,062 - fairisk_dataset - WARNING - South Korea no longer has MOBILITY data.\n",
      "2021-03-12 10:03:28,063 - fairisk_dataset - WARNING - Spain no longer has MOBILITY data.\n",
      "2021-03-12 10:03:28,064 - fairisk_dataset - WARNING - Sri Lanka no longer has MOBILITY data.\n",
      "2021-03-12 10:03:28,066 - fairisk_dataset - WARNING - Suriname no longer has MOBILITY data.\n",
      "2021-03-12 10:03:28,067 - fairisk_dataset - WARNING - Sweden no longer has MOBILITY data.\n",
      "2021-03-12 10:03:28,069 - fairisk_dataset - WARNING - Switzerland no longer has MOBILITY data.\n",
      "2021-03-12 10:03:28,071 - fairisk_dataset - WARNING - Taiwan no longer has MOBILITY data.\n",
      "2021-03-12 10:03:28,073 - fairisk_dataset - WARNING - Tajikistan no longer has MOBILITY data.\n",
      "2021-03-12 10:03:28,074 - fairisk_dataset - WARNING - Tanzania no longer has MOBILITY data.\n",
      "2021-03-12 10:03:28,075 - fairisk_dataset - WARNING - Thailand no longer has MOBILITY data.\n",
      "2021-03-12 10:03:28,076 - fairisk_dataset - WARNING - Timor-Leste no longer has MOBILITY data.\n",
      "2021-03-12 10:03:28,078 - fairisk_dataset - WARNING - Togo no longer has MOBILITY data.\n",
      "2021-03-12 10:03:28,079 - fairisk_dataset - WARNING - Trinidad and Tobago no longer has MOBILITY data.\n",
      "2021-03-12 10:03:28,080 - fairisk_dataset - WARNING - Tunisia no longer has MOBILITY data.\n",
      "2021-03-12 10:03:28,081 - fairisk_dataset - WARNING - Turkey no longer has MOBILITY data.\n",
      "2021-03-12 10:03:28,083 - fairisk_dataset - WARNING - Uganda no longer has MOBILITY data.\n",
      "2021-03-12 10:03:28,085 - fairisk_dataset - WARNING - United Arab Emirates no longer has MOBILITY data.\n",
      "2021-03-12 10:03:28,087 - fairisk_dataset - WARNING - United Kingdom no longer has COVID, MOBILITY data.\n",
      "2021-03-12 10:03:28,089 - fairisk_dataset - WARNING - United States no longer has COVID, MOBILITY data.\n",
      "2021-03-12 10:03:28,091 - fairisk_dataset - WARNING - Uruguay no longer has MOBILITY data.\n",
      "2021-03-12 10:03:28,093 - fairisk_dataset - WARNING - Uzbekistan no longer has MOBILITY data.\n",
      "2021-03-12 10:03:28,094 - fairisk_dataset - WARNING - Vanuatu no longer has MOBILITY data.\n",
      "2021-03-12 10:03:28,095 - fairisk_dataset - WARNING - Vietnam no longer has MOBILITY data.\n",
      "2021-03-12 10:03:28,097 - fairisk_dataset - WARNING - Zambia no longer has MOBILITY data.\n",
      "2021-03-12 10:03:28,098 - fairisk_dataset - WARNING - Zimbabwe no longer has MOBILITY data.\n",
      "2021-03-12 10:03:28,099 - fairisk_dataset - WARNING - American Samoa has been erased as it no longer had data.\n",
      "2021-03-12 10:03:28,100 - fairisk_dataset - WARNING - Guadeloupe has been erased as it no longer had data.\n",
      "2021-03-12 10:03:28,101 - fairisk_dataset - WARNING - French Guiana has been erased as it no longer had data.\n",
      "2021-03-12 10:03:28,102 - fairisk_dataset - WARNING - Martinique has been erased as it no longer had data.\n",
      "2021-03-12 10:03:28,103 - fairisk_dataset - WARNING - New Caledonia has been erased as it no longer had data.\n",
      "2021-03-12 10:03:28,104 - fairisk_dataset - WARNING - Reunion has been erased as it no longer had data.\n",
      "2021-03-12 10:03:28,106 - fairisk_dataset - WARNING - United States Virgin Islands has been erased as it no longer had data.\n"
     ]
    },
    {
     "output_type": "error",
     "ename": "KeyError",
     "evalue": "'COVID'",
     "traceback": [
      "\u001b[0;31m---------------------------------------------------------------------------\u001b[0m",
      "\u001b[0;31mKeyError\u001b[0m                                  Traceback (most recent call last)",
      "\u001b[0;32m<timed eval>\u001b[0m in \u001b[0;36m<module>\u001b[0;34m\u001b[0m\n",
      "\u001b[0;31mKeyError\u001b[0m: 'COVID'"
     ]
    }
   ],
   "source": [
    "%autoreload 2\n",
    "\n",
    "from fairiskdata.utils.time_parsers import safe_date_parse\n",
    "\n",
    "# between two years\n",
    "dataset = FAIRiskDataset.load()\n",
    "%time print(dataset.filter_time_interval(pd.Interval(pd.Timestamp(\"2020\"), pd.Timestamp(\"2021\"), closed='neither')).get()[\"Portugal\"][\"COVID\"][\"total_deaths\"][\"VALUE\"].keys())\n",
    "# year\n",
    "dataset = FAIRiskDataset.load()\n",
    "%time print(dataset.filter_time_interval(pd.Period(\"2014\")).get()[\"Portugal\"][\"COVID\"][\"total_deaths\"][\"VALUE\"].keys())\n",
    "# week\n",
    "dataset = FAIRiskDataset.load()\n",
    "%time print(dataset.filter_time_interval(safe_date_parse('2020W01')).get()[\\\"Portugal\\\"][\\\"COVID\\\"][\\\"total_deaths\\\"][\\\"VALUE\\\"].keys())"
   ]
  },
  {
   "cell_type": "code",
   "execution_count": 16,
   "metadata": {},
   "outputs": [
    {
     "output_type": "stream",
     "name": "stdout",
     "text": [
      "dict_keys(['From 10 to 14 years_Females', 'From 10 to 14 years_Males', 'From 10 to 14 years_Total', 'From 15 to 19 years_Females', 'From 15 to 19 years_Males', 'From 15 to 19 years_Total', 'From 20 to 24 years_Females', 'From 20 to 24 years_Males', 'From 20 to 24 years_Total', 'From 25 to 29 years_Females', 'From 25 to 29 years_Males', 'From 25 to 29 years_Total', 'Total_Females', 'Total_Males', 'Total_Total'])\nCPU times: user 193 ms, sys: 2.13 ms, total: 195 ms\nWall time: 196 ms\ndict_keys(['From 10 to 14 years_Females', 'From 10 to 14 years_Males', 'From 10 to 14 years_Total', 'From 15 to 19 years_Females', 'From 15 to 19 years_Males', 'From 15 to 19 years_Total', 'From 20 to 24 years_Females', 'From 20 to 24 years_Males', 'From 20 to 24 years_Total', 'From 25 to 29 years_Females', 'From 25 to 29 years_Males', 'From 25 to 29 years_Total', 'Total_Females', 'Total_Males', 'Total_Total'])\nCPU times: user 183 ms, sys: 1.74 ms, total: 185 ms\nWall time: 186 ms\n"
     ]
    }
   ],
   "source": [
    "%autoreload 2\n",
    "\n",
    "# new api\n",
    "dataset = FAIRiskDataset.load()\n",
    "%time print(dataset.filter_age_group(age_group=(10,25)).get()[\"Portugal\"][\"DEMOGRAPHIC\"].keys())\n",
    "%time print(dataset.filter_age_group(age_group=(10,25)).get()[\"Portugal\"][\"MORTALITY\"].keys())"
   ]
  },
  {
   "cell_type": "code",
   "execution_count": 14,
   "metadata": {},
   "outputs": [
    {
     "output_type": "stream",
     "name": "stdout",
     "text": [
      "dict_keys(['Australia', 'Austria', 'Belgium', 'Bulgaria', 'Canada', 'Chile', 'Croatia', 'Czech Republic', 'Denmark', 'Estonia', 'Finland', 'France', 'Germany', 'Greece', 'Hungary', 'Iceland', 'Israel', 'Italy', 'Latvia', 'Lithuania', 'Luxembourg', 'Netherlands', 'New Zealand', 'Norway', 'Poland', 'Portugal', 'Russia', 'Slovakia', 'Slovenia', 'South Korea', 'Spain', 'Sweden', 'Switzerland', 'Taiwan', 'United Kingdom', 'United States'])\n",
      "CPU times: user 43.3 ms, sys: 4.29 ms, total: 47.6 ms\n",
      "Wall time: 47.7 ms\n",
      "605.1883640945359\n",
      "CPU times: user 46.8 ms, sys: 3.46 ms, total: 50.2 ms\n",
      "Wall time: 50.6 ms\n",
      "{'ATTR_NAME': 'D0_14_b', 'SOURCE': 'Human Mortality Database', 'UNIT': 'Number', 'FREQUENCY': 'WEEKLY', 'VALUE': 2014W01    605.188364\n",
      "2014W02    627.275531\n",
      "2014W03    612.256257\n",
      "2014W04    624.625071\n",
      "2014W05    580.450738\n",
      "2014W06    621.974611\n",
      "2014W07    624.625071\n",
      "2014W08    608.722311\n",
      "2014W09    620.207637\n",
      "2014W10    623.741584\n",
      "2014W11    574.266331\n",
      "2014W12    611.372771\n",
      "2014W13    600.770931\n",
      "2014W14    576.916791\n",
      "2014W15    610.489284\n",
      "2014W16    604.304877\n",
      "2014W17    646.712237\n",
      "2014W18    621.974611\n",
      "2014W19    665.265457\n",
      "2014W20    579.567251\n",
      "2014W21    614.906717\n",
      "2014W22    612.256257\n",
      "2014W23    621.974611\n",
      "2014W24    591.052577\n",
      "2014W25    670.566377\n",
      "2014W26    639.644344\n",
      "2014W27    616.673691\n",
      "2014W28    629.925991\n",
      "2014W29    612.256257\n",
      "2014W30    620.207637\n",
      "2014W31    644.061777\n",
      "2014W32    632.576451\n",
      "2014W33    603.421391\n",
      "2014W34    588.402117\n",
      "2014W35    642.294804\n",
      "2014W36    626.392044\n",
      "2014W37    602.537904\n",
      "2014W38    616.673691\n",
      "2014W39    564.547978\n",
      "2014W40    621.091124\n",
      "2014W41    636.993884\n",
      "2014W42    619.324151\n",
      "2014W43    581.334224\n",
      "2014W44    558.363571\n",
      "2014W45    629.042504\n",
      "2014W46    619.324151\n",
      "2014W47    602.537904\n",
      "2014W48    598.120471\n",
      "2014W49    606.955337\n",
      "2014W50    579.567251\n",
      "2014W51    604.304877\n",
      "2014W52    614.023231\n",
      "2015W01    612.294203\n",
      "dtype: float64}\n",
      "CPU times: user 49.6 s, sys: 331 ms, total: 50 s\n",
      "Wall time: 50.3 s\n"
     ]
    }
   ],
   "source": [
    "%autoreload 2\n",
    "\n",
    "dataset = FAIRiskDataset.load()\n",
    "%time print(dataset.filter_countries_with_missing_values_on_attributes([('MORTALITY', 'D0_14_b')]).get().keys())\n",
    "\n",
    "dataset = FAIRiskDataset.load()\n",
    "%time print(dataset.filter_countries_with_missing_values_on_attributes([('MORTALITY', 'D0_14_b')]).get()['United States']['MORTALITY']['D0_14_b'][\"VALUE\"][\"2014W01\"])\n",
    "dataset = FAIRiskDataset.load()\n",
    "%time print(dataset.filter_countries_with_missing_values_on_attributes([('MORTALITY', 'D0_14_b')]).filter_time_interval(pd.Period(\"2014\")).get()['United States']['MORTALITY']['D0_14_b'])"
   ]
  },
  {
   "cell_type": "code",
   "execution_count": 15,
   "metadata": {},
   "outputs": [
    {
     "output_type": "stream",
     "name": "stdout",
     "text": [
      "dict_keys(['Bulgaria', 'Italy', 'Slovenia', 'Spain'])\nCPU times: user 864 ms, sys: 9.98 ms, total: 874 ms\nWall time: 874 ms\n"
     ]
    }
   ],
   "source": [
    "%autoreload 2\n",
    "\n",
    "# new api\n",
    "dataset = FAIRiskDataset.load()\n",
    "#profiler = cProfile.Profile()\n",
    "#profiler.enable()\n",
    "%time print(dataset.filter_countries_missing_value_attributes_below(18).get().keys())\n",
    "#profiler.disable()\n"
   ]
  },
  {
   "cell_type": "code",
   "execution_count": 8,
   "metadata": {
    "tags": []
   },
   "outputs": [
    {
     "output_type": "stream",
     "name": "stdout",
     "text": [
      "Number of attributeds before: 69449\n",
      "CPU times: user 4.72 s, sys: 38.1 ms, total: 4.76 s\n",
      "Wall time: 4.79 s\n",
      "Number of attributeds after: 44343\n"
     ]
    }
   ],
   "source": [
    "%autoreload 2\n",
    "\n",
    "# new api\n",
    "dataset = FAIRiskDataset.load()\n",
    "#profiler = cProfile.Profile()\n",
    "#profiler.enable()\n",
    "print(f\"Number of attributeds before: {len(dataset.get_attributes())}\")\n",
    "%time dataset.filter_attributes_with_countries_nan_below(70)\n",
    "print(f\"Number of attributeds after: {len(dataset.get_attributes())}\")\n",
    "#profiler.disable()"
   ]
  },
  {
   "cell_type": "code",
   "execution_count": 16,
   "metadata": {
    "tags": []
   },
   "outputs": [
    {
     "output_type": "stream",
     "name": "stdout",
     "text": [
      "Index(['2013W01', '2013W02', '2013W03', '2013W04', '2013W05', '2013W06',\n       '2013W07', '2013W08', '2013W09', '2013W10', '2013W11', '2013W12',\n       '2013W13', '2013W14', '2013W15', '2013W16', '2013W17', '2013W18',\n       '2013W19', '2013W20', '2013W21', '2013W22', '2013W23', '2013W24',\n       '2013W25', '2013W26', '2013W27', '2013W28', '2013W29', '2013W30',\n       '2013W31', '2013W32', '2013W33', '2013W34', '2013W35', '2013W36',\n       '2013W37', '2013W38', '2013W39', '2013W40', '2013W41', '2013W42',\n       '2013W43', '2013W44', '2013W45', '2013W46', '2013W47', '2013W48',\n       '2013W49', '2013W50', '2013W51', '2013W52', '2014W01'],\n      dtype='object')\nCPU times: user 55.4 s, sys: 339 ms, total: 55.8 s\nWall time: 56.1 s\n"
     ]
    }
   ],
   "source": [
    "%autoreload 2\n",
    "dataset = FAIRiskDataset.load()\n",
    "\n",
    "%time print(dataset.filter_time_interval(pd.Period(\"2013\")).get()['United States']['MORTALITY']['D0_14_b'][\"VALUE\"].keys())"
   ]
  },
  {
   "source": [
    "### Resampling"
   ],
   "cell_type": "markdown",
   "metadata": {}
  },
  {
   "cell_type": "code",
   "execution_count": 13,
   "metadata": {
    "tags": []
   },
   "outputs": [
    {
     "output_type": "stream",
     "name": "stdout",
     "text": [
      "CPU times: user 29.6 s, sys: 320 ms, total: 29.9 s\nWall time: 30.2 s\n"
     ]
    },
    {
     "output_type": "execute_result",
     "data": {
      "text/plain": [
       "Index(['01-2000', '02-2000', '03-2000', '04-2000', '05-2000', '06-2000',\n",
       "       '07-2000', '08-2000', '09-2000', '10-2000',\n",
       "       ...\n",
       "       '02-2020', '03-2020', '04-2020', '05-2020', '06-2020', '07-2020',\n",
       "       '08-2020', '09-2020', '10-2020', '11-2020'],\n",
       "      dtype='object', length=251)"
      ]
     },
     "metadata": {},
     "execution_count": 13
    }
   ],
   "source": [
    "%%time\n",
    "%autoreload 2\n",
    "dataset.filter_countries('Portugal').resample('MONTHLY')\n",
    "dataset.get()['Portugal']['MORTALITY']['Total_Total']['VALUE'].keys()"
   ]
  },
  {
   "source": [
    "### Exporting dataframes"
   ],
   "cell_type": "markdown",
   "metadata": {}
  },
  {
   "cell_type": "code",
   "execution_count": 4,
   "metadata": {},
   "outputs": [
    {
     "output_type": "stream",
     "name": "stdout",
     "text": [
      "100\nCPU times: user 7.37 ms, sys: 1.49 ms, total: 8.85 ms\nWall time: 15.7 ms\n"
     ]
    },
    {
     "output_type": "execute_result",
     "data": {
      "text/plain": [
       "    country  DEMOGRAPHIC:population  DEMOGRAPHIC:median_age  \\\n",
       "0  Portugal              10196707.0                    46.2   \n",
       "\n",
       "   DEMOGRAPHIC:aged_65_older  DEMOGRAPHIC:aged_70_older  \\\n",
       "0                     21.502                     14.924   \n",
       "\n",
       "   INDICATORS:gdp_per_capita  INDICATORS:extreme_poverty  \\\n",
       "0                  27936.896                         0.5   \n",
       "\n",
       "   INDICATORS:cardiovasc_death_rate  INDICATORS:diabetes_prevalence  \\\n",
       "0                           127.842                            9.85   \n",
       "\n",
       "   INDICATORS:female_smokers  ...  SCORES:MPI SCORES:GII  SCORES:GINI  \\\n",
       "0                       16.3  ...        None   0.080794         35.5   \n",
       "\n",
       "   SCORES:AtC  SCORES:IHR09  SCORES:Ptip  SCORES:HFA  SCORES:POL.GE.EST  \\\n",
       "0    3.851772          80.0     3.210778        3.95           1.208909   \n",
       "\n",
       "   SCORES:CPI  SCORES:SDGIHR  \n",
       "0        62.0           77.0  \n",
       "\n",
       "[1 rows x 100 columns]"
      ],
      "text/html": "<div>\n<style scoped>\n    .dataframe tbody tr th:only-of-type {\n        vertical-align: middle;\n    }\n\n    .dataframe tbody tr th {\n        vertical-align: top;\n    }\n\n    .dataframe thead th {\n        text-align: right;\n    }\n</style>\n<table border=\"1\" class=\"dataframe\">\n  <thead>\n    <tr style=\"text-align: right;\">\n      <th></th>\n      <th>country</th>\n      <th>DEMOGRAPHIC:population</th>\n      <th>DEMOGRAPHIC:median_age</th>\n      <th>DEMOGRAPHIC:aged_65_older</th>\n      <th>DEMOGRAPHIC:aged_70_older</th>\n      <th>INDICATORS:gdp_per_capita</th>\n      <th>INDICATORS:extreme_poverty</th>\n      <th>INDICATORS:cardiovasc_death_rate</th>\n      <th>INDICATORS:diabetes_prevalence</th>\n      <th>INDICATORS:female_smokers</th>\n      <th>...</th>\n      <th>SCORES:MPI</th>\n      <th>SCORES:GII</th>\n      <th>SCORES:GINI</th>\n      <th>SCORES:AtC</th>\n      <th>SCORES:IHR09</th>\n      <th>SCORES:Ptip</th>\n      <th>SCORES:HFA</th>\n      <th>SCORES:POL.GE.EST</th>\n      <th>SCORES:CPI</th>\n      <th>SCORES:SDGIHR</th>\n    </tr>\n  </thead>\n  <tbody>\n    <tr>\n      <th>0</th>\n      <td>Portugal</td>\n      <td>10196707.0</td>\n      <td>46.2</td>\n      <td>21.502</td>\n      <td>14.924</td>\n      <td>27936.896</td>\n      <td>0.5</td>\n      <td>127.842</td>\n      <td>9.85</td>\n      <td>16.3</td>\n      <td>...</td>\n      <td>None</td>\n      <td>0.080794</td>\n      <td>35.5</td>\n      <td>3.851772</td>\n      <td>80.0</td>\n      <td>3.210778</td>\n      <td>3.95</td>\n      <td>1.208909</td>\n      <td>62.0</td>\n      <td>77.0</td>\n    </tr>\n  </tbody>\n</table>\n<p>1 rows × 100 columns</p>\n</div>"
     },
     "metadata": {},
     "execution_count": 4
    }
   ],
   "source": [
    "%%time\n",
    "%autoreload 2\n",
    "e = dataset.export(type='parameters')\n",
    "print(len(e.columns))\n",
    "e"
   ]
  },
  {
   "cell_type": "code",
   "execution_count": 4,
   "metadata": {},
   "outputs": [
    {
     "output_type": "stream",
     "name": "stdout",
     "text": [
      "10\nCPU times: user 5.54 s, sys: 546 ms, total: 6.08 s\nWall time: 6.19 s\n"
     ]
    },
    {
     "output_type": "execute_result",
     "data": {
      "text/plain": [
       "                              country  category  \\\n",
       "0                         Afghanistan     COVID   \n",
       "1                         Afghanistan     COVID   \n",
       "2                         Afghanistan     COVID   \n",
       "3                         Afghanistan     COVID   \n",
       "4                         Afghanistan     COVID   \n",
       "...                               ...       ...   \n",
       "1882996  United States Virgin Islands  MOBILITY   \n",
       "1882997  United States Virgin Islands  MOBILITY   \n",
       "1882998  United States Virgin Islands  MOBILITY   \n",
       "1882999  United States Virgin Islands  MOBILITY   \n",
       "1883000  United States Virgin Islands  MOBILITY   \n",
       "\n",
       "                                   attribute  \\\n",
       "0                                total_cases   \n",
       "1                                total_cases   \n",
       "2                                total_cases   \n",
       "3                                total_cases   \n",
       "4                                total_cases   \n",
       "...                                      ...   \n",
       "1882996  all_day_ratio_single_tile_users_std   \n",
       "1882997  all_day_ratio_single_tile_users_std   \n",
       "1882998  all_day_ratio_single_tile_users_std   \n",
       "1882999  all_day_ratio_single_tile_users_std   \n",
       "1883000  all_day_ratio_single_tile_users_std   \n",
       "\n",
       "                                   ATTR_NAME  \\\n",
       "0                                total_cases   \n",
       "1                                total_cases   \n",
       "2                                total_cases   \n",
       "3                                total_cases   \n",
       "4                                total_cases   \n",
       "...                                      ...   \n",
       "1882996  all_day_ratio_single_tile_users_std   \n",
       "1882997  all_day_ratio_single_tile_users_std   \n",
       "1882998  all_day_ratio_single_tile_users_std   \n",
       "1882999  all_day_ratio_single_tile_users_std   \n",
       "1883000  all_day_ratio_single_tile_users_std   \n",
       "\n",
       "                                                    SOURCE  \\\n",
       "0        Data on COVID-19 (coronavirus) by Our World in...   \n",
       "1        Data on COVID-19 (coronavirus) by Our World in...   \n",
       "2        Data on COVID-19 (coronavirus) by Our World in...   \n",
       "3        Data on COVID-19 (coronavirus) by Our World in...   \n",
       "4        Data on COVID-19 (coronavirus) by Our World in...   \n",
       "...                                                    ...   \n",
       "1882996                  Movement Range Maps from Facebook   \n",
       "1882997                  Movement Range Maps from Facebook   \n",
       "1882998                  Movement Range Maps from Facebook   \n",
       "1882999                  Movement Range Maps from Facebook   \n",
       "1883000                  Movement Range Maps from Facebook   \n",
       "\n",
       "                                                      UNIT FREQUENCY  \\\n",
       "0                                                   Number     DAILY   \n",
       "1                                                   Number     DAILY   \n",
       "2                                                   Number     DAILY   \n",
       "3                                                   Number     DAILY   \n",
       "4                                                   Number     DAILY   \n",
       "...                                                    ...       ...   \n",
       "1882996  Relation to baseline (full_february - DAY_OF_W...     DAILY   \n",
       "1882997  Relation to baseline (full_february - DAY_OF_W...     DAILY   \n",
       "1882998  Relation to baseline (full_february - DAY_OF_W...     DAILY   \n",
       "1882999  Relation to baseline (full_february - DAY_OF_W...     DAILY   \n",
       "1883000  Relation to baseline (full_february - DAY_OF_W...     DAILY   \n",
       "\n",
       "        SERIES_TYPE         key value  \n",
       "0             TOTAL  2020-02-24     1  \n",
       "1             TOTAL  2020-02-25     1  \n",
       "2             TOTAL  2020-02-26     1  \n",
       "3             TOTAL  2020-02-27     1  \n",
       "4             TOTAL  2020-02-28     1  \n",
       "...             ...         ...   ...  \n",
       "1882996     CURRENT  2021-01-22   NaN  \n",
       "1882997     CURRENT  2021-01-23   NaN  \n",
       "1882998     CURRENT  2021-01-24   NaN  \n",
       "1882999     CURRENT  2021-01-25   NaN  \n",
       "1883000     CURRENT  2021-01-26   NaN  \n",
       "\n",
       "[1883001 rows x 10 columns]"
      ],
      "text/html": "<div>\n<style scoped>\n    .dataframe tbody tr th:only-of-type {\n        vertical-align: middle;\n    }\n\n    .dataframe tbody tr th {\n        vertical-align: top;\n    }\n\n    .dataframe thead th {\n        text-align: right;\n    }\n</style>\n<table border=\"1\" class=\"dataframe\">\n  <thead>\n    <tr style=\"text-align: right;\">\n      <th></th>\n      <th>country</th>\n      <th>category</th>\n      <th>attribute</th>\n      <th>ATTR_NAME</th>\n      <th>SOURCE</th>\n      <th>UNIT</th>\n      <th>FREQUENCY</th>\n      <th>SERIES_TYPE</th>\n      <th>key</th>\n      <th>value</th>\n    </tr>\n  </thead>\n  <tbody>\n    <tr>\n      <th>0</th>\n      <td>Afghanistan</td>\n      <td>COVID</td>\n      <td>total_cases</td>\n      <td>total_cases</td>\n      <td>Data on COVID-19 (coronavirus) by Our World in...</td>\n      <td>Number</td>\n      <td>DAILY</td>\n      <td>TOTAL</td>\n      <td>2020-02-24</td>\n      <td>1</td>\n    </tr>\n    <tr>\n      <th>1</th>\n      <td>Afghanistan</td>\n      <td>COVID</td>\n      <td>total_cases</td>\n      <td>total_cases</td>\n      <td>Data on COVID-19 (coronavirus) by Our World in...</td>\n      <td>Number</td>\n      <td>DAILY</td>\n      <td>TOTAL</td>\n      <td>2020-02-25</td>\n      <td>1</td>\n    </tr>\n    <tr>\n      <th>2</th>\n      <td>Afghanistan</td>\n      <td>COVID</td>\n      <td>total_cases</td>\n      <td>total_cases</td>\n      <td>Data on COVID-19 (coronavirus) by Our World in...</td>\n      <td>Number</td>\n      <td>DAILY</td>\n      <td>TOTAL</td>\n      <td>2020-02-26</td>\n      <td>1</td>\n    </tr>\n    <tr>\n      <th>3</th>\n      <td>Afghanistan</td>\n      <td>COVID</td>\n      <td>total_cases</td>\n      <td>total_cases</td>\n      <td>Data on COVID-19 (coronavirus) by Our World in...</td>\n      <td>Number</td>\n      <td>DAILY</td>\n      <td>TOTAL</td>\n      <td>2020-02-27</td>\n      <td>1</td>\n    </tr>\n    <tr>\n      <th>4</th>\n      <td>Afghanistan</td>\n      <td>COVID</td>\n      <td>total_cases</td>\n      <td>total_cases</td>\n      <td>Data on COVID-19 (coronavirus) by Our World in...</td>\n      <td>Number</td>\n      <td>DAILY</td>\n      <td>TOTAL</td>\n      <td>2020-02-28</td>\n      <td>1</td>\n    </tr>\n    <tr>\n      <th>...</th>\n      <td>...</td>\n      <td>...</td>\n      <td>...</td>\n      <td>...</td>\n      <td>...</td>\n      <td>...</td>\n      <td>...</td>\n      <td>...</td>\n      <td>...</td>\n      <td>...</td>\n    </tr>\n    <tr>\n      <th>1882996</th>\n      <td>United States Virgin Islands</td>\n      <td>MOBILITY</td>\n      <td>all_day_ratio_single_tile_users_std</td>\n      <td>all_day_ratio_single_tile_users_std</td>\n      <td>Movement Range Maps from Facebook</td>\n      <td>Relation to baseline (full_february - DAY_OF_W...</td>\n      <td>DAILY</td>\n      <td>CURRENT</td>\n      <td>2021-01-22</td>\n      <td>NaN</td>\n    </tr>\n    <tr>\n      <th>1882997</th>\n      <td>United States Virgin Islands</td>\n      <td>MOBILITY</td>\n      <td>all_day_ratio_single_tile_users_std</td>\n      <td>all_day_ratio_single_tile_users_std</td>\n      <td>Movement Range Maps from Facebook</td>\n      <td>Relation to baseline (full_february - DAY_OF_W...</td>\n      <td>DAILY</td>\n      <td>CURRENT</td>\n      <td>2021-01-23</td>\n      <td>NaN</td>\n    </tr>\n    <tr>\n      <th>1882998</th>\n      <td>United States Virgin Islands</td>\n      <td>MOBILITY</td>\n      <td>all_day_ratio_single_tile_users_std</td>\n      <td>all_day_ratio_single_tile_users_std</td>\n      <td>Movement Range Maps from Facebook</td>\n      <td>Relation to baseline (full_february - DAY_OF_W...</td>\n      <td>DAILY</td>\n      <td>CURRENT</td>\n      <td>2021-01-24</td>\n      <td>NaN</td>\n    </tr>\n    <tr>\n      <th>1882999</th>\n      <td>United States Virgin Islands</td>\n      <td>MOBILITY</td>\n      <td>all_day_ratio_single_tile_users_std</td>\n      <td>all_day_ratio_single_tile_users_std</td>\n      <td>Movement Range Maps from Facebook</td>\n      <td>Relation to baseline (full_february - DAY_OF_W...</td>\n      <td>DAILY</td>\n      <td>CURRENT</td>\n      <td>2021-01-25</td>\n      <td>NaN</td>\n    </tr>\n    <tr>\n      <th>1883000</th>\n      <td>United States Virgin Islands</td>\n      <td>MOBILITY</td>\n      <td>all_day_ratio_single_tile_users_std</td>\n      <td>all_day_ratio_single_tile_users_std</td>\n      <td>Movement Range Maps from Facebook</td>\n      <td>Relation to baseline (full_february - DAY_OF_W...</td>\n      <td>DAILY</td>\n      <td>CURRENT</td>\n      <td>2021-01-26</td>\n      <td>NaN</td>\n    </tr>\n  </tbody>\n</table>\n<p>1883001 rows × 10 columns</p>\n</div>"
     },
     "metadata": {},
     "execution_count": 4
    }
   ],
   "source": [
    "%%time\n",
    "%autoreload 2\n",
    "e = dataset.export(type='all')\n",
    "print(len(e.columns))\n",
    "e"
   ]
  },
  {
   "cell_type": "code",
   "execution_count": 7,
   "metadata": {},
   "outputs": [
    {
     "output_type": "stream",
     "name": "stdout",
     "text": [
      "152\nCPU times: user 57.4 s, sys: 1.98 s, total: 59.4 s\nWall time: 60 s\n"
     ]
    }
   ],
   "source": [
    "%%time\n",
    "%autoreload 2\n",
    "e = dataset.export(type='timeseries')\n",
    "print(len(e.columns))\n",
    "e\n"
   ]
  },
  {
   "cell_type": "code",
   "execution_count": 10,
   "metadata": {},
   "outputs": [
    {
     "output_type": "execute_result",
     "data": {
      "text/plain": [
       "array(['1989-12-25T00:00:00.000000000', '1990-01-01T00:00:00.000000000',\n",
       "       '1990-01-08T00:00:00.000000000', ...,\n",
       "       '2020-12-28T00:00:00.000000000', '2021-01-04T00:00:00.000000000',\n",
       "                                 'NaT'], dtype='datetime64[ns]')"
      ]
     },
     "metadata": {},
     "execution_count": 10
    }
   ],
   "source": [
    "e.parsed_timestamp.unique()"
   ]
  },
  {
   "cell_type": "code",
   "execution_count": null,
   "metadata": {},
   "outputs": [],
   "source": []
  }
 ],
 "metadata": {
  "kernelspec": {
   "display_name": "Python 3",
   "language": "python",
   "name": "python3"
  },
  "language_info": {
   "codemirror_mode": {
    "name": "ipython",
    "version": 3
   },
   "file_extension": ".py",
   "mimetype": "text/x-python",
   "name": "python",
   "nbconvert_exporter": "python",
   "pygments_lexer": "ipython3",
   "version": "3.7.10-final"
  }
 },
 "nbformat": 4,
 "nbformat_minor": 4
}